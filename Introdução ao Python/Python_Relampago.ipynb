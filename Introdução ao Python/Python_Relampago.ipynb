{
  "nbformat": 4,
  "nbformat_minor": 0,
  "metadata": {
    "colab": {
      "name": "Python Relampago.ipynb",
      "provenance": [],
      "collapsed_sections": [],
      "toc_visible": true
    },
    "kernelspec": {
      "name": "python3",
      "display_name": "Python 3"
    }
  },
  "cells": [
    {
      "cell_type": "markdown",
      "metadata": {
        "id": "vqmmt5T81JwR"
      },
      "source": [
        "#**README**#\r\n",
        "\r\n",
        "Todo conteúdo produzido para esse notebook foi retirado e adaptado por Isaac Pereira da Conceição Araujo, do livro de Eric Matthes, Curso Intensivo de Python. Algumas sintaxes foram revisadas com auxilio da documentação do Python (https://docs.python.org/3/tutorial/index.html) e do W3Schools (https://www.w3schools.com/python/default.asp)\r\n",
        "\r\n",
        "Esse notebook será atualizado frequentemente.\r\n"
      ]
    },
    {
      "cell_type": "markdown",
      "metadata": {
        "id": "u9Quv-l_kpYE"
      },
      "source": [
        "# **Iniciando no Python** #"
      ]
    },
    {
      "cell_type": "markdown",
      "metadata": {
        "id": "3-VPnQB1vOEc"
      },
      "source": [
        "**O que é Python?**\r\n",
        "\r\n",
        "* Python é uma linguagem de programação de alto nível, orientada a objetos, de tipagem dinâmica e multiparadigma. Foi lançada em 1991, por Guido Van Rossum.\r\n",
        "\r\n",
        "* Um dos pontos fortes da linguagem é a combinação de uma sintaxe concisa e clara com bibliotecas poderosas, frameworks e módulos de terceiros. Vale ressaltar que Python prioriza a legibilidade do código sobre a velocidade ou expressividade.\r\n",
        "\r\n",
        "**Por que Python?**\r\n",
        "\r\n",
        "> “Todos os anos eu avalio se devo continuar usando Python ou se devo mudar para uma linguagem diferente – talvez uma que seja mais nova no mundo da programação. Porém, continuo focando em Python por diversos motivos. Python é uma linguagem extremamente eficiente: seus programas farão mais com menos linhas de código, se comparados ao que muitas outras linguagens exigiriam. A sintaxe de Python também ajudará você a escrever um código “limpo”. Seu código será fácil de ler, fácil de depurar, fácil de estender e de expandir, quando comparado com outras linguagens. As pessoas usam Python para muitos propósitos: criar jogos, construir aplicações web, resolver problemas de negócios e desenvolver ferramentas internas em todo tipo de empresas interessantes. Python também é intensamente usada em áreas científicas para pesquisa acadêmica e trabalhos aplicados.” \r\n",
        "\r\n",
        "-> Texto retirado do Livro **Curso Intensivo de Python**, de Eric Matthes\r\n"
      ]
    },
    {
      "cell_type": "markdown",
      "metadata": {
        "id": "-tCF0P57vkLy"
      },
      "source": [
        "## **Hello World** ##\r\n",
        "\r\n",
        "Uma crença de longa data no mundo da programação é que exibir uma mensagem ‘Hello world!’ na tela como seu primeiro programa em uma nova linguagem trará sorte.\r\n",
        "\r\n",
        "> Em Python, podemos escrever o programa Hello World com uma linha: ***print(‘Hello world!’)***.\r\n",
        "\r\n",
        "\r\n"
      ]
    },
    {
      "cell_type": "code",
      "metadata": {
        "id": "eL7t4zIIko4E",
        "colab": {
          "base_uri": "https://localhost:8080/"
        },
        "outputId": "26c91698-d703-44fc-f0bd-c2933acc3410"
      },
      "source": [
        "print('Hello world!')"
      ],
      "execution_count": null,
      "outputs": [
        {
          "output_type": "stream",
          "text": [
            "Hello world!\n"
          ],
          "name": "stdout"
        }
      ]
    },
    {
      "cell_type": "markdown",
      "metadata": {
        "id": "V2om3QiwphIs"
      },
      "source": [
        "Curiosidade: A função *print()* possui um argumento nomeado *end*, que tem em sí, a atribuição do valor '\\n', o que confere à função print uma quebra de linha a cada uso da função. Esse valor pode ser alterado."
      ]
    },
    {
      "cell_type": "code",
      "metadata": {
        "colab": {
          "base_uri": "https://localhost:8080/"
        },
        "id": "jfzP0e6Gpex9",
        "outputId": "f06ebf70-f515-46f5-f150-e9cc6692c4a5"
      },
      "source": [
        "print(\"Olá\")\r\n",
        "print(\"Pessoa\")"
      ],
      "execution_count": null,
      "outputs": [
        {
          "output_type": "stream",
          "text": [
            "Olá\n",
            "Pessoa\n"
          ],
          "name": "stdout"
        }
      ]
    },
    {
      "cell_type": "code",
      "metadata": {
        "colab": {
          "base_uri": "https://localhost:8080/"
        },
        "id": "BwmUaoj4poSV",
        "outputId": "4d544bba-3ab0-49cd-8d7f-120816e15bc2"
      },
      "source": [
        "# Modificamos o argumento end='\\n', para retirar a quebra de linha automática da função print()\r\n",
        "print(\"Olá\", end=' ')\r\n",
        "print(\"Pessoa\")"
      ],
      "execution_count": null,
      "outputs": [
        {
          "output_type": "stream",
          "text": [
            "Olá Pessoa\n"
          ],
          "name": "stdout"
        }
      ]
    },
    {
      "cell_type": "markdown",
      "metadata": {
        "id": "rAhE1RR2wvm_"
      },
      "source": [
        "# **Variáveis e tipos de dados simples** #\r\n",
        "\r\n"
      ]
    },
    {
      "cell_type": "markdown",
      "metadata": {
        "id": "ocSD6BazOVra"
      },
      "source": [
        "## **Introdução** ##\r\n",
        "\r\n",
        "As variáveis são recipientes para armazenamento de valores de dados. Ao contrário de outras linguagens de programação, Python não tem nenhum comando para declarar uma variável.\r\n",
        "\r\n",
        "> Uma variável é criada no momento em que se lhe atribui um valor pela primeira vez. Podemos mudar o valor de uma variável em nosso programa a qualquer momento, e Python sempre manterá o controle do valor atual.\r\n",
        "\r\n",
        "> Caso deseje limpar uma variável, você pode escrever ***del VARIÁVEL***. Perceba que ao tentarmos printar \"mensagem\", Python retornará um erro, pois nossa variável foi deletada na linha anterior."
      ]
    },
    {
      "cell_type": "markdown",
      "metadata": {
        "id": "XKMkbHxzz_Sn"
      },
      "source": [
        " **Nomeando variáveis**\r\n",
        "\r\n",
        "Ao usar variáveis em Python, é preciso seguir algumas regras e diretrizes. Quebrar algumas dessas regras provocará erros:\r\n",
        "\r\n",
        "* Espaços não são permitidos em nomes de variáveis, mas underlines podem ser usados para separar palavras em nomes de variáveis;\r\n",
        "* Evite usar palavras reservadas e nomes de funções em Python como nomes de variáveis;\r\n",
        "* Nomes de variáveis devem ser concisos, porém descritivos;\r\n",
        "* Aprender a criar bons nomes de variáveis, em especial quando seus programas se tornarem mais interessantes e complicados, pode exigir um pouco de prática.\r\n"
      ]
    },
    {
      "cell_type": "code",
      "metadata": {
        "colab": {
          "base_uri": "https://localhost:8080/",
          "height": 129
        },
        "id": "z8BEbDP2ykPM",
        "outputId": "9e6ecdd8-e4f1-4a01-ca33-a8a9a881699d"
      },
      "source": [
        "# Nomeando uma variável de maneira errada\r\n",
        "minha mensagem = 'Olá Python!'"
      ],
      "execution_count": null,
      "outputs": [
        {
          "output_type": "error",
          "ename": "SyntaxError",
          "evalue": "ignored",
          "traceback": [
            "\u001b[0;36m  File \u001b[0;32m\"<ipython-input-4-abce3b135e7b>\"\u001b[0;36m, line \u001b[0;32m2\u001b[0m\n\u001b[0;31m    minha mensagem = 'Olá Python!'\u001b[0m\n\u001b[0m                 ^\u001b[0m\n\u001b[0;31mSyntaxError\u001b[0m\u001b[0;31m:\u001b[0m invalid syntax\n"
          ]
        }
      ]
    },
    {
      "cell_type": "code",
      "metadata": {
        "colab": {
          "base_uri": "https://localhost:8080/"
        },
        "id": "BTo-gmRC0TYp",
        "outputId": "3ffdcf1c-d312-4b79-e746-394afe07b0a1"
      },
      "source": [
        "# Atribuindo o valor 'Olá Python!' a uma variável\r\n",
        "minha_mensagem = 'Olá Python!'\r\n",
        "print(minha_mensagem)"
      ],
      "execution_count": null,
      "outputs": [
        {
          "output_type": "stream",
          "text": [
            "Olá Python!\n"
          ],
          "name": "stdout"
        }
      ]
    },
    {
      "cell_type": "code",
      "metadata": {
        "colab": {
          "base_uri": "https://localhost:8080/",
          "height": 197
        },
        "id": "kSg856xAq__y",
        "outputId": "3c5499ac-dd27-473a-87a5-404a0767d5d2"
      },
      "source": [
        "# Deletando nossa variável.\r\n",
        "del minha_mensagem\r\n",
        "print(minha_mensagem)"
      ],
      "execution_count": null,
      "outputs": [
        {
          "output_type": "error",
          "ename": "NameError",
          "evalue": "ignored",
          "traceback": [
            "\u001b[0;31m---------------------------------------------------------------------------\u001b[0m",
            "\u001b[0;31mNameError\u001b[0m                                 Traceback (most recent call last)",
            "\u001b[0;32m<ipython-input-3-395bebba3fc2>\u001b[0m in \u001b[0;36m<module>\u001b[0;34m()\u001b[0m\n\u001b[1;32m      1\u001b[0m \u001b[0;31m# Deletando nossa variável.\u001b[0m\u001b[0;34m\u001b[0m\u001b[0;34m\u001b[0m\u001b[0;34m\u001b[0m\u001b[0m\n\u001b[0;32m----> 2\u001b[0;31m \u001b[0;32mdel\u001b[0m \u001b[0mminha_mensagem\u001b[0m\u001b[0;34m\u001b[0m\u001b[0;34m\u001b[0m\u001b[0m\n\u001b[0m\u001b[1;32m      3\u001b[0m \u001b[0mprint\u001b[0m\u001b[0;34m(\u001b[0m\u001b[0mminha_mensagem\u001b[0m\u001b[0;34m)\u001b[0m\u001b[0;34m\u001b[0m\u001b[0;34m\u001b[0m\u001b[0m\n",
            "\u001b[0;31mNameError\u001b[0m: name 'minha_mensagem' is not defined"
          ]
        }
      ]
    },
    {
      "cell_type": "markdown",
      "metadata": {
        "id": "4VTs5SP4ROFc"
      },
      "source": [
        " **Tipos de dados** \r\n",
        "\r\n",
        "Python possui os seguintes tipos de dados padrão:\r\n",
        "\r\n",
        "| **TIPOS**  |          **EXEMPLOS**          |\r\n",
        "|:----------:|:----------------------------:  |\r\n",
        "| Textual    | *str*                          |\r\n",
        "| Numericas  | *int, float, complex*          |\r\n",
        "| Sequências | *list, tuple, range*           |\r\n",
        "| Mapeamento | *dict*                         |\r\n",
        "| Conjuntos  | *set, frozenset*               |\r\n",
        "| Booleano   | *bool*                         |\r\n",
        "| Binário    | *bytes, bytearray, memoryview* |\r\n",
        "\r\n",
        "\r\n"
      ]
    },
    {
      "cell_type": "markdown",
      "metadata": {
        "id": "HdsLLWRs0fMT"
      },
      "source": [
        "### **FAÇA VOCÊ MESMO!** ###\r\n",
        "\r\n",
        "As seções \"FAÇA VOCÊ MESMO!\" tem o intuíto de dar a esse notebook, um conteúdo mais prático.\r\n",
        "\r\n",
        "1. **Mensagens simples:** Armazene uma mensagem em uma variável e, em seguida, exiba essa mensagem. Então altere o valor de sua variável para uma nova mensagem e mostre essa nova mensagem.\r\n",
        "\r\n"
      ]
    },
    {
      "cell_type": "code",
      "metadata": {
        "id": "1saoDBca0tco"
      },
      "source": [
        ""
      ],
      "execution_count": null,
      "outputs": []
    },
    {
      "cell_type": "markdown",
      "metadata": {
        "id": "lq0Dqrla061s"
      },
      "source": [
        "## **Strings** ##\r\n",
        "\r\n",
        "Uma string é simplesmente uma série de caracteres. Tudo que estiver entre aspas é considerada uma string em Python.\r\n",
        "\r\n",
        "> Você pode usar aspas simples ou duplas em torno de suas strings, assim: *\"Isso é uma string\"* . Com a função *type()* podemos verificar o tipo do dado das nossas variáveis.\r\n",
        "\r\n",
        "```\r\n",
        "# O argumento da função type é um objeto python\r\n",
        "type(object)\r\n",
        "```"
      ]
    },
    {
      "cell_type": "code",
      "metadata": {
        "id": "zO4WbxcV2Dj5",
        "colab": {
          "base_uri": "https://localhost:8080/"
        },
        "outputId": "30ce8f1c-dd60-4788-ca02-bb7dc91c2502"
      },
      "source": [
        "# Armazenando uma string numa variável\r\n",
        "mensagem = \"Isso é uma string\"\r\n",
        "print(mensagem)\r\n",
        "# Armazenando outra string numa outra variável\r\n",
        "mensagem_2 = 'Isso também é uma string'\r\n",
        "print(mensagem_2)"
      ],
      "execution_count": null,
      "outputs": [
        {
          "output_type": "stream",
          "text": [
            "Isso é uma string\n",
            "Isso também é uma string\n"
          ],
          "name": "stdout"
        }
      ]
    },
    {
      "cell_type": "code",
      "metadata": {
        "colab": {
          "base_uri": "https://localhost:8080/"
        },
        "id": "feAa_2agUKu8",
        "outputId": "1923bf79-9568-4129-8830-8dd380e0c541"
      },
      "source": [
        "print(type(mensagem))\r\n",
        "print(type(mensagem_2))"
      ],
      "execution_count": null,
      "outputs": [
        {
          "output_type": "stream",
          "text": [
            "<class 'str'>\n",
            "<class 'str'>\n"
          ],
          "name": "stdout"
        }
      ]
    },
    {
      "cell_type": "markdown",
      "metadata": {
        "id": "HdyXRWzkvy6s"
      },
      "source": [
        "**Concatenando Strings**\r\n",
        "\r\n",
        "Muitas vezes, será conveniente combinar strings, que basicamente significa juntar duas strings numa só.\r\n",
        "\r\n",
        "> Python usa o símbolo de adição \"*+*\" para concatenar strings."
      ]
    },
    {
      "cell_type": "code",
      "metadata": {
        "colab": {
          "base_uri": "https://localhost:8080/"
        },
        "id": "JbBIjFaAv8uh",
        "outputId": "d66602f8-666c-40b5-e447-a65f8b07da32"
      },
      "source": [
        "nome = \"aLbeRT\"\r\n",
        "sobrenome =  \"eInsTEIn\"\r\n",
        "nome_completo = nome + ' ' + sobrenome\r\n",
        "print(nome_completo)"
      ],
      "execution_count": null,
      "outputs": [
        {
          "output_type": "stream",
          "text": [
            "aLbeRT eInsTEIn\n"
          ],
          "name": "stdout"
        }
      ]
    },
    {
      "cell_type": "markdown",
      "metadata": {
        "id": "xtqKCa4JvUk4"
      },
      "source": [
        "### **Métodos** ###\r\n",
        "\r\n",
        "Um método nada mais é do que uma função embutida. Nesse caso o método tem o objetivo de modificar a string."
      ]
    },
    {
      "cell_type": "markdown",
      "metadata": {
        "id": "XOxC2niPVTT7"
      },
      "source": [
        " **Mudando para letras maiúsculas e minúsculas em uma string usando métodos** \r\n",
        "\r\n",
        "> ***.title()*** exibe cada palavra com uma letra maiúscula no início;\r\n",
        "\r\n",
        "> ***.upper()*** exibe todas as palavras com letra maiúscula;\r\n",
        "\r\n",
        "> ***.lower()*** exibe todas as palavras com letra minúscula.\r\n",
        "\r\n",
        "```\r\n",
        "string.title()\r\n",
        "string.upper()\r\n",
        "string.lower()\r\n",
        "```\r\n",
        "\r\n",
        "**Tratamento de espaços em branco**\r\n",
        "\r\n",
        "> Para garantir que não haja espaços em branco do lado direito de uma string, utilize o método ***.rstrip()***.\r\n",
        "\r\n",
        "> Para garantir que não haja espaços em branco do lado esquerdo de uma string usando o método ***.lstrip()***. \r\n",
        "\r\n",
        "> Para garantir que não haja espaços em branco dos dois lados ao mesmo tempo com ***.strip()***.\r\n",
        "\r\n",
        "```\r\n",
        "string.rstrip()\r\n",
        "string.lstrip()\r\n",
        "string.strip()\r\n",
        "```\r\n",
        "\r\n",
        " Existem diversos outros métodos a serem explorados: https://www.w3schools.com/python/python_strings_methods.asp\r\n",
        "\r\n"
      ]
    },
    {
      "cell_type": "code",
      "metadata": {
        "colab": {
          "base_uri": "https://localhost:8080/"
        },
        "id": "BYYqKj4uU04J",
        "outputId": "04cfc7d5-78bd-461a-e122-1fe05ccfde92"
      },
      "source": [
        "string = \"aLbeRT eInsTEIn\"\r\n",
        "print(\"str:\", string)\r\n",
        "# Utilização do método title().\r\n",
        "print(\"str.title():\", string.title())\r\n",
        "# Utilização do método upper().\r\n",
        "print(\"str.upper():\", string.upper())\r\n",
        "# Utilização do método lower().\r\n",
        "print(\"str.lower():\", string.lower())"
      ],
      "execution_count": null,
      "outputs": [
        {
          "output_type": "stream",
          "text": [
            "str: aLbeRT eInsTEIn\n",
            "str.title(): Albert Einstein\n",
            "str.upper(): ALBERT EINSTEIN\n",
            "str.lower(): albert einstein\n"
          ],
          "name": "stdout"
        }
      ]
    },
    {
      "cell_type": "code",
      "metadata": {
        "colab": {
          "base_uri": "https://localhost:8080/"
        },
        "id": "FqR5tUqzwV2s",
        "outputId": "fbebc84a-58a4-49d1-88ff-b24a4b43ce48"
      },
      "source": [
        "ling_favorita = '   Python   '\r\n",
        "\r\n",
        "print(\"ling_favorita: \" + ling_favorita + \".\")\r\n",
        "# Utilização do método rstrip(). Foi concatenado um ponto no final para verificar a utilização dos métodos\r\n",
        "print(\"ling_favorita.rstrip(): \" + ling_favorita.rstrip() + \".\")\r\n",
        "# Utilização do método lstrip().\r\n",
        "print(\"ling_favorita.lstrip(): \" + ling_favorita.lstrip() + \".\")\r\n",
        "# Utilização do método strip().\r\n",
        "print(\"ling_favorita.strip(): \" + ling_favorita.strip() + \".\")\r\n"
      ],
      "execution_count": null,
      "outputs": [
        {
          "output_type": "stream",
          "text": [
            "ling_favorita:    Python   .\n",
            "ling_favorita.rstrip():    Python.\n",
            "ling_favorita.lstrip(): Python   .\n",
            "ling_favorita.strip(): Python.\n"
          ],
          "name": "stdout"
        }
      ]
    },
    {
      "cell_type": "markdown",
      "metadata": {
        "id": "PLWIMX5bNNdn"
      },
      "source": [
        " **Acrescentando espaços em branco em strings com tabulações e quebras de linha** \r\n",
        "\r\n",
        "Em programação, espaços em branco se referem a qualquer caractere que não é mostrado, como espaços, tabulações e símbolos de fim de linha.\r\n",
        "\r\n",
        "> Para acrescentar uma tabulação em seu texto, utilize a combinação de caracteres \"*\\t*\"\r\n",
        "\r\n",
        "> Para acrescentar uma quebra de linha em uma string, utilize a combinação de caracteres \"*\\n*\""
      ]
    },
    {
      "cell_type": "code",
      "metadata": {
        "colab": {
          "base_uri": "https://localhost:8080/"
        },
        "id": "a5sucHZ3Kh78",
        "outputId": "2ebc9f71-de64-47b6-ff38-f21215e4304c"
      },
      "source": [
        "# 2 quebras de linha, seguidas por uma tabulação no texto abaixo. \r\n",
        "print(\"Prezadxs, \\n\\n\\t Segue em anexo...\")"
      ],
      "execution_count": null,
      "outputs": [
        {
          "output_type": "stream",
          "text": [
            "Prezadxs, \n",
            "\n",
            "\t Segue em anexo...\n"
          ],
          "name": "stdout"
        }
      ]
    },
    {
      "cell_type": "markdown",
      "metadata": {
        "id": "fxwDmSDMON-Z"
      },
      "source": [
        "> Normalmente, a utilização dos métodos não altera a variável permanentemente, portanto é necessário alterar o valor original dela para que a variável tenha seu valor substituído."
      ]
    },
    {
      "cell_type": "code",
      "metadata": {
        "id": "Pc_jldrLNjqY",
        "colab": {
          "base_uri": "https://localhost:8080/"
        },
        "outputId": "0663a167-aa2f-41e7-a982-4dad12352ebc"
      },
      "source": [
        "ling_favorita = '      Python'\r\n",
        "print(ling_favorita)\r\n",
        "# A variável não é alterada, pois a função lstrip() retorna um valor e não atribui esse valor à variável.\r\n",
        "ling_favorita.lstrip()\r\n",
        "print(ling_favorita)\r\n",
        "# A variável é alterada, pois atribuimos o retorno da função lstrip() à nossa variável \"ling_favorita\".\r\n",
        "ling_favorita = ling_favorita.lstrip()\r\n",
        "print(ling_favorita)"
      ],
      "execution_count": null,
      "outputs": [
        {
          "output_type": "stream",
          "text": [
            "      Python\n",
            "      Python\n",
            "Python\n"
          ],
          "name": "stdout"
        }
      ]
    },
    {
      "cell_type": "markdown",
      "metadata": {
        "id": "yRRllnj6PHjK"
      },
      "source": [
        "### **FAÇA VOCÊ MESMO!** ###\r\n",
        "\r\n",
        "As seções \"FAÇA VOCÊ MESMO!\" tem o intuíto de dar a esse notebook, um conteúdo mais prático.\r\n",
        "\r\n",
        "1. **Mensagem pessoal:** Armazene o nome de uma pessoa em uma variável e\r\n",
        "apresente uma mensagem a essa pessoa. Sua mensagem deve ser simples,\r\n",
        "como “Alô Eric, você gostaria de aprender um pouco de Python hoje?”.\r\n"
      ]
    },
    {
      "cell_type": "code",
      "metadata": {
        "id": "vKRny1QnOfVd"
      },
      "source": [
        ""
      ],
      "execution_count": null,
      "outputs": []
    },
    {
      "cell_type": "markdown",
      "metadata": {
        "id": "0fkMlf3hPQ5j"
      },
      "source": [
        "2. **Letras maiúsculas e minúsculas em nomes:** Armazene o nome de uma\r\n",
        "pessoa em uma variável e então apresente o nome dessa pessoa em letras\r\n",
        "minúsculas, em letras maiúsculas e somente com a primeira letra maiúscula"
      ]
    },
    {
      "cell_type": "code",
      "metadata": {
        "id": "stQaGKxJPvnm"
      },
      "source": [
        ""
      ],
      "execution_count": null,
      "outputs": []
    },
    {
      "cell_type": "markdown",
      "metadata": {
        "id": "W9HzcBBiPwPN"
      },
      "source": [
        "3. **Citação famosa:** Encontre uma citação de uma pessoa famosa que você\r\n",
        "admire. Exiba a citação e o nome do autor. Sua saída deverá ter a aparência\r\n",
        "a seguir, incluindo as aspas: Albert Einstein certa vez disse: “Uma pessoa que\r\n",
        "nunca cometeu um erro jamais tentou nada novo.”\r\n"
      ]
    },
    {
      "cell_type": "code",
      "metadata": {
        "id": "6iT7D6q2Pw7L"
      },
      "source": [
        ""
      ],
      "execution_count": null,
      "outputs": []
    },
    {
      "cell_type": "markdown",
      "metadata": {
        "id": "v5K_JBM4PxS5"
      },
      "source": [
        "4. **Citação famosa 2:** Repita o Exercício 3, porém, desta vez, armazene o\r\n",
        "nome da pessoa famosa em uma variável chamada famous_person. Em\r\n",
        "seguida, componha sua mensagem e armazene-a em uma nova variável\r\n",
        "chamada message. Exiba sua mensagem.\r\n"
      ]
    },
    {
      "cell_type": "code",
      "metadata": {
        "id": "fJk26bjYPxmt"
      },
      "source": [
        ""
      ],
      "execution_count": null,
      "outputs": []
    },
    {
      "cell_type": "markdown",
      "metadata": {
        "id": "bfuy5oHOPyEP"
      },
      "source": [
        "5. **Removendo caracteres em branco de nomes:** Armazene o nome de uma\r\n",
        "pessoa e inclua alguns caracteres em branco no início e no final do nome.\r\n",
        "Lembre-se de usar cada combinação de caracteres, *\"\\t\"* e *\"\\n\"*, pelo menos\r\n",
        "uma vez.\r\n",
        "\r\n",
        "  Exiba o nome uma vez, de modo que os espaços em branco em torno do\r\n",
        "  nome sejam mostrados. Em seguida, exiba o nome usando cada uma das três\r\n",
        "  funções de remoção de espaços: *lstrip()*, *rstrip()* e *strip()*.\r\n"
      ]
    },
    {
      "cell_type": "code",
      "metadata": {
        "id": "z260Fu1NPyVM"
      },
      "source": [
        ""
      ],
      "execution_count": null,
      "outputs": []
    },
    {
      "cell_type": "markdown",
      "metadata": {
        "id": "tn2eXxznQjXu"
      },
      "source": [
        "## **Inteiros e Pontos Flutuantes** ##\r\n",
        "\r\n",
        "Python trata números de várias maneiras diferentes, de acordo com o modo como são usados. \r\n",
        "\r\n",
        "> **INTEIRO**: Python chama de número inteiro qualquer número sem um ponto decimal.\r\n",
        "\r\n",
        "> **FLOAT**: Python chama de número de ponto flutuante (*float*) qualquer número com um ponto decimal.\r\n"
      ]
    },
    {
      "cell_type": "code",
      "metadata": {
        "colab": {
          "base_uri": "https://localhost:8080/"
        },
        "id": "LqbOVMDJQv-x",
        "outputId": "f26f6731-333a-46dc-ee90-79b5be24a461"
      },
      "source": [
        "var_int = 2\r\n",
        "var_float = 2.0\r\n",
        "print(\"var_int type =\", type(var_int))\r\n",
        "print(\"var_float type =\", type(var_float))"
      ],
      "execution_count": null,
      "outputs": [
        {
          "output_type": "stream",
          "text": [
            "var_int type = <class 'int'>\n",
            "var_float type = <class 'float'>\n"
          ],
          "name": "stdout"
        }
      ]
    },
    {
      "cell_type": "markdown",
      "metadata": {
        "id": "YbNRRieRRlBu"
      },
      "source": [
        "**Operadores**\r\n",
        "\r\n",
        "| **Operador** |   **Descrição**  |\r\n",
        "|:------------:|:----------------:|\r\n",
        "|       +      |       SOMA       |\r\n",
        "|       -      |     SUBTRAÇÃO    |\r\n",
        "|       *      |   MULTIPLICAÇÃO  |\r\n",
        "|       /      |      DIVISÃO     |\r\n",
        "|      **      |    POTENCIAÇÃO   |\r\n",
        "|      //      |  DIVISÃO INTEIRA |\r\n",
        "|       %      | RESTO DA DIVISÃO |"
      ]
    },
    {
      "cell_type": "markdown",
      "metadata": {
        "id": "dskuwHLBU1vv"
      },
      "source": [
        "> Abaixo a simbologia utilizada para realizar operações matemáticas. Também é possível a formulação de equações com Python. (Recomendado estudar a biblioteca Numpy)"
      ]
    },
    {
      "cell_type": "code",
      "metadata": {
        "colab": {
          "base_uri": "https://localhost:8080/"
        },
        "id": "G5AUF3x2RV3S",
        "outputId": "072b95bb-12fb-4aeb-a2ca-5b756d53a662"
      },
      "source": [
        "print(\"Exemplo Soma:\")\r\n",
        "print(\"2 + 2 =\", 2+2)\r\n",
        "print(\"\\nExemplo Subtração:\")\r\n",
        "print(\"2 - 2 =\", 2-2)\r\n",
        "print(\"\\nExemplo Multiplicação:\")\r\n",
        "print(\"2 * 3 =\", 2+2)\r\n",
        "print(\"\\nExemplo Divisão:\")\r\n",
        "print(\"2 / 2 =\", 2/2)\r\n",
        "print(\"\\nExemplo Potenciação:\")\r\n",
        "print(\"2 ** 3 =\", 2**3)\r\n",
        "print(\"\\nExemplo Divisão Inteira: Retorna somente o a parte inteira da divisão\")\r\n",
        "print(\"7.5 // 2 =\", 7.5//2)\r\n",
        "print(\"\\nExemplo Resto de: Retorna o resto da divisão\")\r\n",
        "print(\"5 % 2 =\", 5%2)"
      ],
      "execution_count": null,
      "outputs": [
        {
          "output_type": "stream",
          "text": [
            "Exemplo Soma:\n",
            "2 + 2 = 4\n",
            "\n",
            "Exemplo Subtração:\n",
            "2 - 2 = 0\n",
            "\n",
            "Exemplo Multiplicação:\n",
            "2 * 3 = 4\n",
            "\n",
            "Exemplo Divisão:\n",
            "2 / 2 = 1.0\n",
            "\n",
            "Exemplo Potenciação:\n",
            "2 ** 3 = 8\n",
            "\n",
            "Exemplo Divisão Inteira: Retorna somente o a parte inteira da divisão\n",
            "7.5 // 2 = 3.0\n",
            "\n",
            "Exemplo Resto de: Retorna o resto da divisão\n",
            "5 % 2 = 1\n"
          ],
          "name": "stdout"
        }
      ]
    },
    {
      "cell_type": "markdown",
      "metadata": {
        "id": "x6DzCDUwUtIx"
      },
      "source": [
        "**Precisão de pontos flutuantes**\r\n",
        "\r\n",
        "Na maioria das ocasiões, podemos usar decimais sem nos preocupar com o modo como eles se comportam, sem se preocupar com a precisão deles. No entanto, é necessário ter cuidado, pois, às vezes, **você poderá obter um número arbitrário de casas decimais em sua resposta** como no exemplo abaixo."
      ]
    },
    {
      "cell_type": "code",
      "metadata": {
        "colab": {
          "base_uri": "https://localhost:8080/"
        },
        "id": "NY0-Vsp8Txtf",
        "outputId": "73d64192-0784-4112-b0dc-ab6152bbfec2"
      },
      "source": [
        "var_float = 3*0.1\r\n",
        "print(var_float)"
      ],
      "execution_count": null,
      "outputs": [
        {
          "output_type": "stream",
          "text": [
            "0.30000000000000004\n"
          ],
          "name": "stdout"
        }
      ]
    },
    {
      "cell_type": "markdown",
      "metadata": {
        "id": "2HgNNvVMVyUi"
      },
      "source": [
        "> Para solucionar esse problema de precisão, utilizaremos a função *round()* na nossa variável:\r\n",
        "\r\n",
        "\r\n",
        "```\r\n",
        "# A função round tem como argumentos a variável numerica utilizada e a quantidade de digitos nas casas decimais\r\n",
        "round(var_numerica, digitos)\r\n",
        "```\r\n",
        "\r\n"
      ]
    },
    {
      "cell_type": "code",
      "metadata": {
        "colab": {
          "base_uri": "https://localhost:8080/"
        },
        "id": "PhST077wVmD0",
        "outputId": "7b2aa055-6369-4a59-ad0c-e0b77895df55"
      },
      "source": [
        "var_float = 3*0.1\r\n",
        "var_float = round(var_float, 2)\r\n",
        "print(var_float)"
      ],
      "execution_count": null,
      "outputs": [
        {
          "output_type": "stream",
          "text": [
            "0.3\n"
          ],
          "name": "stdout"
        }
      ]
    },
    {
      "cell_type": "markdown",
      "metadata": {
        "id": "d98FY06BOaqU"
      },
      "source": [
        " **Evitando erros de tipo utilizando a função print()**\r\n",
        "\r\n",
        "Com frequência, você vai querer usar o valor de uma variável numérica em uma mensagem. Entretanto, podem ocorrer erros relacionados a função *print()* por conta da tipagem das variáveis. "
      ]
    },
    {
      "cell_type": "code",
      "metadata": {
        "id": "C76qSqo_XIqP",
        "colab": {
          "base_uri": "https://localhost:8080/",
          "height": 180
        },
        "outputId": "f133de18-dcb6-4226-e46e-169da70b1301"
      },
      "source": [
        "idade = 20\r\n",
        "print('eu tenho '+ idade + ' anos!')"
      ],
      "execution_count": null,
      "outputs": [
        {
          "output_type": "error",
          "ename": "TypeError",
          "evalue": "ignored",
          "traceback": [
            "\u001b[0;31m---------------------------------------------------------------------------\u001b[0m",
            "\u001b[0;31mTypeError\u001b[0m                                 Traceback (most recent call last)",
            "\u001b[0;32m<ipython-input-13-1c08ee367bb2>\u001b[0m in \u001b[0;36m<module>\u001b[0;34m()\u001b[0m\n\u001b[1;32m      1\u001b[0m \u001b[0midade\u001b[0m \u001b[0;34m=\u001b[0m \u001b[0;36m20\u001b[0m\u001b[0;34m\u001b[0m\u001b[0;34m\u001b[0m\u001b[0m\n\u001b[0;32m----> 2\u001b[0;31m \u001b[0mprint\u001b[0m\u001b[0;34m(\u001b[0m\u001b[0;34m'eu tenho '\u001b[0m\u001b[0;34m+\u001b[0m \u001b[0midade\u001b[0m \u001b[0;34m+\u001b[0m \u001b[0;34m' anos!'\u001b[0m\u001b[0;34m)\u001b[0m\u001b[0;34m\u001b[0m\u001b[0;34m\u001b[0m\u001b[0m\n\u001b[0m",
            "\u001b[0;31mTypeError\u001b[0m: can only concatenate str (not \"int\") to str"
          ]
        }
      ]
    },
    {
      "cell_type": "markdown",
      "metadata": {
        "id": "UYid2xp5O64n"
      },
      "source": [
        "> Não é possível concatenar um número inteiro com uma string. Para solucionar este problema podemos converter a variável inteira idade em uma string utilizando a função *str()*.\r\n",
        "\r\n",
        "```\r\n",
        "str(variável)\r\n",
        "```\r\n",
        "\r\n"
      ]
    },
    {
      "cell_type": "code",
      "metadata": {
        "colab": {
          "base_uri": "https://localhost:8080/"
        },
        "id": "q0t5iyvfO3Bm",
        "outputId": "5def7feb-0077-4c86-c244-5fe288715ffa"
      },
      "source": [
        "idade = 20\r\n",
        "print('eu tenho ' + str(idade) + ' anos!')"
      ],
      "execution_count": null,
      "outputs": [
        {
          "output_type": "stream",
          "text": [
            "eu tenho 20 anos!\n"
          ],
          "name": "stdout"
        }
      ]
    },
    {
      "cell_type": "markdown",
      "metadata": {
        "id": "T8cZqRL7PK_u"
      },
      "source": [
        "> Também podemos utilizar a string formatada literalmente na função *print()*. Estas strings podem conter campos de substituição, que são expressões delimitadas por chaves *{}*."
      ]
    },
    {
      "cell_type": "code",
      "metadata": {
        "colab": {
          "base_uri": "https://localhost:8080/"
        },
        "id": "adY2ly84PQfb",
        "outputId": "b7d80f33-d1f1-46c6-c960-4f75fca7855b"
      },
      "source": [
        "idade = 20\r\n",
        "print(f'eu tenho {idade} anos!')"
      ],
      "execution_count": null,
      "outputs": [
        {
          "output_type": "stream",
          "text": [
            "eu tenho 20 anos!\n"
          ],
          "name": "stdout"
        }
      ]
    },
    {
      "cell_type": "markdown",
      "metadata": {
        "id": "5N9sGyFRQPxz"
      },
      "source": [
        "### **FAÇA VOCÊ MESMO!** ###\r\n",
        "\r\n",
        "1. **Número oito:** Escreva operações de adição, subtração, multiplicação e divisão que resultem no número 8. Lembre-se de colocar suas operações em instruções print para ver os resultados. Você deve criar quatro linhas como essa: print(5 + 3) Sua saída deve simplesmente ser composta de quatro linhas, com o número 8 em cada uma das linhas.\r\n",
        "\r\n",
        "\r\n"
      ]
    },
    {
      "cell_type": "code",
      "metadata": {
        "id": "xEIoOe3jPe9T"
      },
      "source": [
        ""
      ],
      "execution_count": null,
      "outputs": []
    },
    {
      "cell_type": "markdown",
      "metadata": {
        "id": "KiLBnyHvQoFb"
      },
      "source": [
        "2. **Número favorito:** Armazene seu número favorito em uma variável. Em seguida, usando essa variável, crie uma mensagem que revele o seu número favorito. Exiba essa mensagem."
      ]
    },
    {
      "cell_type": "code",
      "metadata": {
        "id": "1IyAIsSVQq3k"
      },
      "source": [
        ""
      ],
      "execution_count": null,
      "outputs": []
    },
    {
      "cell_type": "markdown",
      "metadata": {
        "id": "rBSTeeHhQrwt"
      },
      "source": [
        "## **Entradas e a função *input()*:** \r\n",
        "\r\n",
        "A função *input()* faz uma pausa em seu programa e espera o usuário fornecer um texto. Depois que Python recebe a entrada do usuário, esse dado é armazenado em uma variável para que você possa trabalhar com ele de forma conveniente.\r\n",
        "\r\n",
        "\r\n",
        "\r\n",
        "```\r\n",
        "# A função input() tem como argumento um texto\r\n",
        "input(str)\r\n",
        "```\r\n",
        "\r\n"
      ]
    },
    {
      "cell_type": "code",
      "metadata": {
        "colab": {
          "base_uri": "https://localhost:8080/"
        },
        "id": "DcaM2OrqnSAK",
        "outputId": "4542df23-d3e7-435f-a8d9-e40f2e410890"
      },
      "source": [
        "nome = input('Digite seu nome: ')\r\n",
        "print('Olá, ' + nome + '.')"
      ],
      "execution_count": null,
      "outputs": [
        {
          "output_type": "stream",
          "text": [
            "Digite seu nome: Alberto\n",
            "Olá, Alberto.\n"
          ],
          "name": "stdout"
        }
      ]
    },
    {
      "cell_type": "markdown",
      "metadata": {
        "id": "wLvV_LfMoEc1"
      },
      "source": [
        "**Utilizando a função *input()* para coletar variáveis númericas**\r\n",
        "\r\n",
        "Ao usarmos a função *input()*, Python interpretará tudo que o usuário fornecer como uma string. Portanto, ao realizarmos operações nesse suposto valor numérico geramos um erro de tipo. Podemos utilizar a função *int()* ou *float()* para transformar a nossa string em uma variável numérica.\r\n",
        "\r\n",
        "```\r\n",
        "int(varíavel)\r\n",
        "float(varíavel)\r\n",
        "```\r\n",
        "\r\n"
      ]
    },
    {
      "cell_type": "code",
      "metadata": {
        "colab": {
          "base_uri": "https://localhost:8080/"
        },
        "id": "N3okLq5WnszL",
        "outputId": "cb3fd197-ea6f-4179-8e4a-505266e68aa5"
      },
      "source": [
        "# Requisitando um valor de entrada ao usuário, transformando a string enviada em valor inteiro e exibindo o seu tipo.\r\n",
        "idade = int(input('Digite sua idade: '))\r\n",
        "print(type(idade))"
      ],
      "execution_count": null,
      "outputs": [
        {
          "output_type": "stream",
          "text": [
            "Digite sua idade: 31\n",
            "<class 'int'>\n"
          ],
          "name": "stdout"
        }
      ]
    },
    {
      "cell_type": "markdown",
      "metadata": {
        "id": "GtTL_uzdQxAH"
      },
      "source": [
        "### **Comentários**\r\n",
        "\r\n",
        "Comentários são um recurso extremamente útil na maioria das linguagens de programação. \r\n",
        "\r\n",
        "> Em Python, o caractere sustenido (*#*) indica um comentário. Tudo que vier depois de um caractere sustenido em seu código será ignorado pelo interpretador Python. \r\n",
        "\r\n",
        "\r\n",
        "O principal motivo para escrever comentários é explicar o que seu código deve fazer e como você o faz funcionar.\r\n",
        "\r\n"
      ]
    },
    {
      "cell_type": "code",
      "metadata": {
        "colab": {
          "base_uri": "https://localhost:8080/"
        },
        "id": "Ir4NQS26Qxt5",
        "outputId": "c990285b-7c40-4dc4-d0c6-201d292e0833"
      },
      "source": [
        "# Função de somar, retorna os valores da variável \"a\" somados à variável \"b\"\r\n",
        "def somar(a,b):\r\n",
        "  return a+b\r\n",
        "print('a+b =', somar(1,2))"
      ],
      "execution_count": null,
      "outputs": [
        {
          "output_type": "stream",
          "text": [
            "a+b = 3\n"
          ],
          "name": "stdout"
        }
      ]
    },
    {
      "cell_type": "markdown",
      "metadata": {
        "id": "gsrdflZpPCJM"
      },
      "source": [
        "### **FAÇA VOCÊ MESMO!**\r\n",
        "\r\n",
        "1. Crie um programa onde o usuário digite 2 números e realize as 4 operações matemáticas básicas (Soma, subtração, multiplicação e divisão). Imprima o resultado final de cada operação.\r\n"
      ]
    },
    {
      "cell_type": "code",
      "metadata": {
        "id": "WauyIe8UPWTF"
      },
      "source": [
        ""
      ],
      "execution_count": null,
      "outputs": []
    },
    {
      "cell_type": "markdown",
      "metadata": {
        "id": "HFsbx6VlqTPn"
      },
      "source": [
        "# **Listas**"
      ]
    },
    {
      "cell_type": "markdown",
      "metadata": {
        "id": "m68XdWANPZMT"
      },
      "source": [
        "## **Introdução**\r\n",
        "\r\n",
        "O que é uma lista?\r\n",
        "\r\n",
        "> Uma lista é uma coleção de itens ordenados e mutáveis, que sofre atribuição por referência. Os itens integrantes de uma lista podem ser de todos os tipos possíveis e não precisam ter relação entre si. Além disso, a lista pode ser composta por itens de mesmo tipo ou de tipos diferentes.\r\n",
        "\r\n",
        "Observe que essa lista é composta por itens de tipos variados, desde números até dicionários (um outro tipo de estrutura de dados), havendo também a possibilidade de colocar uma lista dentro de outra."
      ]
    },
    {
      "cell_type": "code",
      "metadata": {
        "id": "fx67pnsNqS-I",
        "colab": {
          "base_uri": "https://localhost:8080/"
        },
        "outputId": "3195280c-ad62-44ed-99cf-fea901272eb1"
      },
      "source": [
        "lista = [9, 'Joãozinho', [1,2,3], {'key':10}]\r\n",
        "print(lista)"
      ],
      "execution_count": null,
      "outputs": [
        {
          "output_type": "stream",
          "text": [
            "[9, 'Joãozinho', [1, 2, 3], {'key': 10}]\n"
          ],
          "name": "stdout"
        }
      ]
    },
    {
      "cell_type": "markdown",
      "metadata": {
        "id": "OV6Cw4wVT4Uq"
      },
      "source": [
        "**Criando uma Lista**\r\n",
        "\r\n",
        "> Em Python, as Listas são demarcadas por colchetes *[ ]* e seus itens separados por vírgula. Assim, para criar uma lista basta atribuí-la a uma variável, como no exemplo abaixo:\r\n",
        "\r\n",
        "\r\n",
        "\r\n",
        "```\r\n",
        "# Declaração de uma lista\r\n",
        "lista = [elementos]\r\n",
        "# Declaração de uma lista especificando seu tipo\r\n",
        "lista = list((elementos)) \r\n",
        "```\r\n",
        "\r\n"
      ]
    },
    {
      "cell_type": "code",
      "metadata": {
        "colab": {
          "base_uri": "https://localhost:8080/"
        },
        "id": "uh2J-0FmVjhD",
        "outputId": "e3d75420-48f4-4ab7-b746-e485b28e8e23"
      },
      "source": [
        "# Declarando uma lista e exibindo o seu valor\r\n",
        "lista = [4,3,5,7,2,1]\r\n",
        "print('Lista =', lista)"
      ],
      "execution_count": null,
      "outputs": [
        {
          "output_type": "stream",
          "text": [
            "Lista = [4, 3, 5, 7, 2, 1]\n"
          ],
          "name": "stdout"
        }
      ]
    },
    {
      "cell_type": "markdown",
      "metadata": {
        "id": "GE4VlAOCV2AC"
      },
      "source": [
        "## **Manipulando uma lista**\r\n",
        "\r\n",
        "https://www.w3schools.com/python/python_lists_methods.asp\r\n",
        "\r\n",
        "**Acessando e modificando os itens:**\r\n",
        "\r\n",
        "> Cada item de uma lista possui um índice atribuído, esse índice, em Python, começa a partir de zero, para visualizar um item específico basta acessar da seguinte forma:\r\n",
        "\r\n",
        "```\r\n",
        "# Acessando a posição inicial da nossa lista\r\n",
        "lista[0]\r\n",
        "```\r\n",
        "> Ainda é possível modificar o valor contido naquele índice, trocando-o, por exemplo, por um item de outro tipo.\r\n",
        "\r\n",
        "```\r\n",
        "# Modificando a posição inicial de nossa lista\r\n",
        "lista[0] = \"Meu nome é João\"\r\n",
        "```\r\n"
      ]
    },
    {
      "cell_type": "code",
      "metadata": {
        "colab": {
          "base_uri": "https://localhost:8080/"
        },
        "id": "n5wy42T2bgsz",
        "outputId": "1119146c-66fa-407a-b309-576b1066d0c9"
      },
      "source": [
        "# Exibindo a lista antes da modificação e o valor existente na posição que será modificada.\r\n",
        "print(\"Lista:\", lista)\r\n",
        "print(\"Elemento na posição 0:\", lista[0])\r\n",
        "\r\n",
        "# Modificando o valor da posição inicial 4 (Variável numérica), por 'UFBA' (Variável textual).\r\n",
        "lista[0]='UFBA'\r\n",
        "\r\n",
        "# Exibindo a lista com os valores modificados\r\n",
        "print(\"\\nLista Atualizada:\", lista)\r\n",
        "print(\"Elemento atualizado da posição 0:\", lista[0])\r\n"
      ],
      "execution_count": null,
      "outputs": [
        {
          "output_type": "stream",
          "text": [
            "Lista: [4, 3, 5, 7, 2, 1]\n",
            "Elemento na posição 0: 4\n",
            "\n",
            "Lista Atualizada: ['UFBA', 3, 5, 7, 2, 1]\n",
            "Elemento atualizado da posição 0: UFBA\n"
          ],
          "name": "stdout"
        }
      ]
    },
    {
      "cell_type": "markdown",
      "metadata": {
        "id": "7tuXAYoVckmX"
      },
      "source": [
        "**Adicionando Itens**\r\n",
        "\r\n",
        "> Listas são mutáveis e dinâmicas, portanto podemos adicionar itens dinamicamente a uma Lista utilizando o método *append()*:\r\n",
        "\r\n",
        "\r\n",
        "```\r\n",
        "# O argumento requer um elemento de qualquer tipo\r\n",
        "lista.append(elemento)\r\n",
        "```\r\n",
        "\r\n",
        "> Vale ressaltar que o método append é capaz de adicionar um elemento de qualquer tipo (string, dict, list, etc.)\r\n",
        "\r\n"
      ]
    },
    {
      "cell_type": "code",
      "metadata": {
        "id": "YC_lYQdNqP08",
        "colab": {
          "base_uri": "https://localhost:8080/"
        },
        "outputId": "6629e0b8-0315-4063-fb61-41ec2a9fabc8"
      },
      "source": [
        "# Adicionando o número 10 na nossa lista original\r\n",
        "lista.append(10)\r\n",
        "# Adicionando a lista ['A','B','C'] na nossa lista original\r\n",
        "lista.append(['A','B','C'])\r\n",
        "# Exibindo a lista original\r\n",
        "print('Lista Atualizada =', lista)"
      ],
      "execution_count": null,
      "outputs": [
        {
          "output_type": "stream",
          "text": [
            "Lista Atualizada = ['UFBA', 3, 5, 7, 2, 1, 10, ['A', 'B', 'C']]\n"
          ],
          "name": "stdout"
        }
      ]
    },
    {
      "cell_type": "markdown",
      "metadata": {
        "id": "QXR6R8HMBMBx"
      },
      "source": [
        "**Removendo Itens**\r\n",
        "\r\n",
        "> Também é possível remover um item específico existente em uma lista, por meio do método *remove( )*\r\n",
        "\r\n",
        "```\r\n",
        "# O argumento requer um elemento de qualquer tipo\r\n",
        "lista.remove(elemento)\r\n",
        "```\r\n",
        "\r\n",
        "> O *remove()* irá remover a primeira ocorrência do elemento indicado. Caso o item não exista dentro da lista será retornado um erro.\r\n",
        "\r\n"
      ]
    },
    {
      "cell_type": "code",
      "metadata": {
        "id": "6brUzUCep4_v",
        "colab": {
          "base_uri": "https://localhost:8080/"
        },
        "outputId": "842e5001-7bfa-41ed-9252-988d9e42274c"
      },
      "source": [
        "# Removendo a string UFBA da nossa lista original\r\n",
        "lista.remove('UFBA')\r\n",
        "print('Removendo UFBA =', lista)\r\n",
        "# Removendo a lista ['A','B','C'] da nossa lista original\r\n",
        "lista.remove(['A','B','C']) \r\n",
        "print('\\nLista Atualizada =',lista)"
      ],
      "execution_count": null,
      "outputs": [
        {
          "output_type": "stream",
          "text": [
            "Removendo UFBA = [3, 5, 7, 2, 1, 10, ['A', 'B', 'C']]\n",
            "\n",
            "Lista Atualizada = [3, 5, 7, 2, 1, 10]\n"
          ],
          "name": "stdout"
        }
      ]
    },
    {
      "cell_type": "markdown",
      "metadata": {
        "id": "LfOJ_dVQFDD-"
      },
      "source": [
        "### **Métodos Gerais**"
      ]
    },
    {
      "cell_type": "markdown",
      "metadata": {
        "id": "oam_jAl1FUTK"
      },
      "source": [
        "**Tamanho de uma lista**\r\n",
        "\r\n",
        "> É possível verificar o tamanho de uma lista utilizando o método global *len()*.\r\n",
        "\r\n",
        "\r\n",
        "```\r\n",
        "# O argumento requer um objeto, que deve ser uma sequência (Lista) ou coleção (Dicionário)\r\n",
        "len(objeto)\r\n",
        "```\r\n",
        "\r\n"
      ]
    },
    {
      "cell_type": "code",
      "metadata": {
        "colab": {
          "base_uri": "https://localhost:8080/"
        },
        "id": "AJUHyVQTqdt_",
        "outputId": "0cea305b-a468-457a-8afd-502279c9df81"
      },
      "source": [
        "tamanho_lista = len(lista)\r\n",
        "print('Tamanho da lista =', tamanho_lista)"
      ],
      "execution_count": null,
      "outputs": [
        {
          "output_type": "stream",
          "text": [
            "Tamanho da lista = 6\n"
          ],
          "name": "stdout"
        }
      ]
    },
    {
      "cell_type": "markdown",
      "metadata": {
        "id": "NVSjANMEF1_K"
      },
      "source": [
        "**Contando a quantidade de Itens**\r\n",
        "\r\n",
        "> O método count possibilita contar a quantidade de itens iguais ao especificado dentro de uma lista.\r\n",
        "\r\n",
        "\r\n",
        "```\r\n",
        "# O argumento requer um elemento de qualquer tipo\r\n",
        "lista.count(elemento)\r\n",
        "```\r\n",
        "\r\n"
      ]
    },
    {
      "cell_type": "code",
      "metadata": {
        "colab": {
          "base_uri": "https://localhost:8080/"
        },
        "id": "eQg-Dw89qtyY",
        "outputId": "2764721e-f220-4ba6-96fc-f2e23745697d"
      },
      "source": [
        "# Contando a quantidade de elementos inteiros com valor 10 existem na nossa lista\r\n",
        "qntd_10 = lista.count(10)\r\n",
        "print(f'Existe {qntd_10} inteiro com valor igual a 10.')"
      ],
      "execution_count": null,
      "outputs": [
        {
          "output_type": "stream",
          "text": [
            "Existe 1 inteiro com valor igual a 10.\n"
          ],
          "name": "stdout"
        }
      ]
    },
    {
      "cell_type": "markdown",
      "metadata": {
        "id": "PhkXtr6UHgBt"
      },
      "source": [
        "**Ordenando uma Lista**\r\n",
        "\r\n",
        "> Caso queira ordenar uma lista é possível utilizar o método *sort( )*, que é capaz de fazer a ordenação numérica e alfabética da lista. Atenção, o método *sort()* atualizará a sua varíavel, num fenômeno que chamamos de **inplace**.\r\n",
        "\r\n",
        "```\r\n",
        "# A lista possui dois argumentos, o reverse, que setado como True retornará a lista em ordem decrescente e False que ordenará a lista em ordem crescente.\r\n",
        "#Além do key para especificar uma função com diferentes critérios para ordenação.\r\n",
        "\r\n",
        "lista.sort(reverse=True|False, key=myFunc)\r\n",
        "sorted(sequência, reverse=True|False)\r\n",
        "```\r\n",
        "\r\n",
        "\r\n",
        "\r\n"
      ]
    },
    {
      "cell_type": "code",
      "metadata": {
        "colab": {
          "base_uri": "https://localhost:8080/"
        },
        "id": "ogsfJQPBrE72",
        "outputId": "882a1675-716e-40a7-9c04-5839a1b66169"
      },
      "source": [
        "# Exibindo a lista antes da ordenação\r\n",
        "print('Lista antes da ordenação =', lista)\r\n",
        "\r\n",
        "# Ordenando a lista em ordem decrescente e exibindo-a\r\n",
        "lista.sort(reverse=True)\r\n",
        "print('\\nLista decrescente =', lista)\r\n",
        "\r\n",
        "# Ordenando a lista em ordem crescente e exibindo-a\r\n",
        "lista.sort()\r\n",
        "print('\\nLista crescente =', lista)"
      ],
      "execution_count": null,
      "outputs": [
        {
          "output_type": "stream",
          "text": [
            "Lista antes da ordenação = [3, 5, 7, 2, 1, 10]\n",
            "\n",
            "Lista decrescente = [10, 7, 5, 3, 2, 1]\n",
            "\n",
            "Lista crescente = [1, 2, 3, 5, 7, 10]\n"
          ],
          "name": "stdout"
        }
      ]
    },
    {
      "cell_type": "code",
      "metadata": {
        "colab": {
          "base_uri": "https://localhost:8080/"
        },
        "id": "m8wdKvN3r_VF",
        "outputId": "703caa2e-c062-43f5-b186-d104df200cc1"
      },
      "source": [
        "# Caso queira inverter as posições de uma lista, utiliza-se o .reverse()\r\n",
        "lista.reverse()\r\n",
        "print(lista)"
      ],
      "execution_count": null,
      "outputs": [
        {
          "output_type": "stream",
          "text": [
            "[10, 7, 5, 3, 2, 1]\n"
          ],
          "name": "stdout"
        }
      ]
    },
    {
      "cell_type": "markdown",
      "metadata": {
        "id": "KvGWRirs2YSi"
      },
      "source": [
        "Muitas vezes não iremos querer que nossa ordenação altere diretamente nossa variável. A função ***sorted()*** apenas retorna o valor resultante da ordenação, não alterando a nossa variável original.\r\n",
        "\r\n",
        "Obs: Essas funções também funcionam com listas compostas de strings, porém não é possível ordenar listas com tipos diferentes em seus elementos."
      ]
    },
    {
      "cell_type": "code",
      "metadata": {
        "colab": {
          "base_uri": "https://localhost:8080/"
        },
        "id": "hbUuZ6kmrPPd",
        "outputId": "d2e5cd5c-8a0e-4390-8cad-82481fb6f8e7"
      },
      "source": [
        "sorted(lista, reverse=False)"
      ],
      "execution_count": null,
      "outputs": [
        {
          "output_type": "execute_result",
          "data": {
            "text/plain": [
              "[1, 2, 3, 5, 7, 10]"
            ]
          },
          "metadata": {
            "tags": []
          },
          "execution_count": 34
        }
      ]
    },
    {
      "cell_type": "markdown",
      "metadata": {
        "id": "Upa8Uus92_e-"
      },
      "source": [
        "Podemos verificar a presença de um valor utilizando o operador ***in***, que nos retornará um valor verdadeiro ou falso, da seguinte forma:\r\n",
        "\r\n",
        "\r\n",
        "\r\n",
        "```\r\n",
        "# Checando a existência de um determinado elemento em nossa lista\r\n",
        "elemento in lista\r\n",
        "```\r\n",
        "\r\n"
      ]
    },
    {
      "cell_type": "code",
      "metadata": {
        "colab": {
          "base_uri": "https://localhost:8080/"
        },
        "id": "GgIh7OzvsP9s",
        "outputId": "32163274-3046-4592-aba3-ad3ea0b75c17"
      },
      "source": [
        "# Verificando a existência da string 6 em nossa lista\r\n",
        "'6' in lista"
      ],
      "execution_count": null,
      "outputs": [
        {
          "output_type": "execute_result",
          "data": {
            "text/plain": [
              "False"
            ]
          },
          "metadata": {
            "tags": []
          },
          "execution_count": 35
        }
      ]
    },
    {
      "cell_type": "markdown",
      "metadata": {
        "id": "jogMR4hf4F6-"
      },
      "source": [
        "Podemos também **somar os valores** da nossa lista e procurar pelos **valores máximos e minimos** dela."
      ]
    },
    {
      "cell_type": "code",
      "metadata": {
        "colab": {
          "base_uri": "https://localhost:8080/"
        },
        "id": "fd5gRX0-sSDj",
        "outputId": "eb55b026-aac1-4a40-a364-6056d0fd7b22"
      },
      "source": [
        "print('Nossa lista:', lista)\r\n",
        "print('Soma:', sum(lista))"
      ],
      "execution_count": null,
      "outputs": [
        {
          "output_type": "stream",
          "text": [
            "Nossa lista: [10, 7, 5, 3, 2, 1]\n",
            "Soma: 28\n"
          ],
          "name": "stdout"
        }
      ]
    },
    {
      "cell_type": "code",
      "metadata": {
        "colab": {
          "base_uri": "https://localhost:8080/"
        },
        "id": "vcvsscq8sd-6",
        "outputId": "faffba17-f36d-4f41-d983-678b647954ef"
      },
      "source": [
        "print('Nossa lista:', lista)\r\n",
        "print('Valor Max:', max(lista))\r\n"
      ],
      "execution_count": null,
      "outputs": [
        {
          "output_type": "stream",
          "text": [
            "Nossa lista: [10, 7, 5, 3, 2, 1]\n",
            "Valor Max: 10\n"
          ],
          "name": "stdout"
        }
      ]
    },
    {
      "cell_type": "code",
      "metadata": {
        "colab": {
          "base_uri": "https://localhost:8080/"
        },
        "id": "KG4lHpr3skmr",
        "outputId": "6f5e9e8d-7278-453e-c9ec-a8f8e3985141"
      },
      "source": [
        "print('Nossa lista:', lista)\r\n",
        "print('Valor Min:', min(lista))"
      ],
      "execution_count": null,
      "outputs": [
        {
          "output_type": "stream",
          "text": [
            "Nossa lista: [10, 7, 5, 3, 2, 1]\n",
            "Valor Min: 1\n"
          ],
          "name": "stdout"
        }
      ]
    },
    {
      "cell_type": "markdown",
      "metadata": {
        "id": "Tg_I2CBX4zNi"
      },
      "source": [
        "Existem alguns outros métodos para listas, vocês podem procurá-los no site https://www.w3schools.com/python/python_lists_methods.asp, ou na documentação do Python."
      ]
    },
    {
      "cell_type": "code",
      "metadata": {
        "colab": {
          "base_uri": "https://localhost:8080/"
        },
        "id": "OpVHNsuBsmCb",
        "outputId": "da58700e-55d2-468b-e083-e4eccf9dc68b"
      },
      "source": [
        "# A função dir retorna todos os métodos que podém ser utilizados com uma determinada variável, que nesse caso é uma lista\r\n",
        "dir(list)"
      ],
      "execution_count": null,
      "outputs": [
        {
          "output_type": "execute_result",
          "data": {
            "text/plain": [
              "['__add__',\n",
              " '__class__',\n",
              " '__contains__',\n",
              " '__delattr__',\n",
              " '__delitem__',\n",
              " '__dir__',\n",
              " '__doc__',\n",
              " '__eq__',\n",
              " '__format__',\n",
              " '__ge__',\n",
              " '__getattribute__',\n",
              " '__getitem__',\n",
              " '__gt__',\n",
              " '__hash__',\n",
              " '__iadd__',\n",
              " '__imul__',\n",
              " '__init__',\n",
              " '__init_subclass__',\n",
              " '__iter__',\n",
              " '__le__',\n",
              " '__len__',\n",
              " '__lt__',\n",
              " '__mul__',\n",
              " '__ne__',\n",
              " '__new__',\n",
              " '__reduce__',\n",
              " '__reduce_ex__',\n",
              " '__repr__',\n",
              " '__reversed__',\n",
              " '__rmul__',\n",
              " '__setattr__',\n",
              " '__setitem__',\n",
              " '__sizeof__',\n",
              " '__str__',\n",
              " '__subclasshook__',\n",
              " 'append',\n",
              " 'clear',\n",
              " 'copy',\n",
              " 'count',\n",
              " 'extend',\n",
              " 'index',\n",
              " 'insert',\n",
              " 'pop',\n",
              " 'remove',\n",
              " 'reverse',\n",
              " 'sort']"
            ]
          },
          "metadata": {
            "tags": []
          },
          "execution_count": 42
        }
      ]
    },
    {
      "cell_type": "markdown",
      "metadata": {
        "id": "GzFCS3J75Qet"
      },
      "source": [
        "## **Trabalhando com as listas** "
      ]
    },
    {
      "cell_type": "markdown",
      "metadata": {
        "id": "HXHzFNmJ5iYa"
      },
      "source": [
        "**Percorrendo uma lista**\r\n",
        "\r\n",
        "> O **for** é uma estrutura de repetição que irá percorrer toda lista, a variável x assume o valor de cada item da lista temporariamente, no que chamamos de iteração. Posteriormente detalharemos mais os usos do **for**.\r\n",
        "\r\n",
        "\r\n",
        "\r\n",
        "```\r\n",
        "# Sintaxe básica de um laço for:\r\n",
        "for iterador in lista:\r\n",
        "  print(iterador)\r\n",
        "```\r\n",
        "\r\n"
      ]
    },
    {
      "cell_type": "code",
      "metadata": {
        "id": "Ozv5732tt0yb",
        "colab": {
          "base_uri": "https://localhost:8080/"
        },
        "outputId": "f58e0309-b177-41cc-b7cc-838fbbee2254"
      },
      "source": [
        "# Declaração de uma lista\r\n",
        "animais = ['Peixe', 'Gato', 'Rato', 'Cachorro', 'Pombo']\r\n",
        "\r\n",
        "# Percorrendo a lista com o laço for\r\n",
        "for x in animais:\r\n",
        "  print(x)"
      ],
      "execution_count": null,
      "outputs": [
        {
          "output_type": "stream",
          "text": [
            "Peixe\n",
            "Gato\n",
            "Rato\n",
            "Cachorro\n",
            "Pombo\n"
          ],
          "name": "stdout"
        }
      ]
    },
    {
      "cell_type": "markdown",
      "metadata": {
        "id": "j0kl9OQp6QdL"
      },
      "source": [
        "**Slicing: Trabalhando com partes de uma lista**\r\n",
        "\r\n",
        "> É possível utilizar partes específicas de seu código, realizando o que chamamos de slicing. Seu uso baseia-se em indicar o índice de início e final entre colchetes, sendo separados pelo sinal de dois pontos ***[:]***.\r\n",
        "\r\n",
        "```\r\n",
        "lista[posição inicial:posição final]\r\n",
        "```\r\n",
        "\r\n"
      ]
    },
    {
      "cell_type": "code",
      "metadata": {
        "id": "grw3yWFH8Ogr"
      },
      "source": [
        "# Declaração de uma lista\r\n",
        "animais = ['Peixe', 'Gato', 'Rato', 'Cachorro', 'Pombo']"
      ],
      "execution_count": null,
      "outputs": []
    },
    {
      "cell_type": "code",
      "metadata": {
        "colab": {
          "base_uri": "https://localhost:8080/"
        },
        "id": "Z7xEVN4GuSKq",
        "outputId": "a5cbb60a-d69d-4c49-fac3-e98214a35706"
      },
      "source": [
        "# Selecionando os elementos da posição 0 à posição 2 (Intervalo aberto)\r\n",
        "print('Lista Original:', animais)\r\n",
        "print(animais[0:2])"
      ],
      "execution_count": null,
      "outputs": [
        {
          "output_type": "stream",
          "text": [
            "Lista Original: ['Peixe', 'Gato', 'Rato', 'Cachorro', 'Pombo']\n",
            "['Peixe', 'Gato']\n"
          ],
          "name": "stdout"
        }
      ]
    },
    {
      "cell_type": "code",
      "metadata": {
        "colab": {
          "base_uri": "https://localhost:8080/"
        },
        "id": "9HeiK3vVuWjg",
        "outputId": "dd68eaea-51a2-421d-8930-aa2a59e65d7e"
      },
      "source": [
        "# Caso não seja especificado o índice final, a separação será realizada até o fim da lista:\r\n",
        "print('Lista Original:', animais)\r\n",
        "print(animais[3:])"
      ],
      "execution_count": null,
      "outputs": [
        {
          "output_type": "stream",
          "text": [
            "Lista Original: ['Peixe', 'Gato', 'Rato', 'Cachorro', 'Pombo']\n",
            "['Cachorro', 'Pombo']\n"
          ],
          "name": "stdout"
        }
      ]
    },
    {
      "cell_type": "code",
      "metadata": {
        "colab": {
          "base_uri": "https://localhost:8080/"
        },
        "id": "UYnc2pzeuklv",
        "outputId": "b431787e-7117-4a21-d11b-08b342352c65"
      },
      "source": [
        "# O mesmo vale para a situação onde não é especificado o índice inicial, apenas o final.\r\n",
        "print('Lista Original:', animais)\r\n",
        "print(animais[:3])"
      ],
      "execution_count": null,
      "outputs": [
        {
          "output_type": "stream",
          "text": [
            "Lista Original: ['Peixe', 'Gato', 'Rato', 'Cachorro', 'Pombo']\n",
            "['Peixe', 'Gato', 'Rato']\n"
          ],
          "name": "stdout"
        }
      ]
    },
    {
      "cell_type": "code",
      "metadata": {
        "colab": {
          "base_uri": "https://localhost:8080/"
        },
        "id": "wdyo4ebNurWo",
        "outputId": "9fe745b6-f2f9-4cf4-be92-4b50dd9d8e43"
      },
      "source": [
        "# Também é possível realizar um Slicing “pulando” itens da lista\r\n",
        "print('Lista Original:', animais)\r\n",
        "print(animais[0:3:2])"
      ],
      "execution_count": null,
      "outputs": [
        {
          "output_type": "stream",
          "text": [
            "Lista Original: ['Peixe', 'Gato', 'Rato', 'Cachorro', 'Pombo']\n",
            "['Peixe', 'Rato']\n"
          ],
          "name": "stdout"
        }
      ]
    },
    {
      "cell_type": "code",
      "metadata": {
        "colab": {
          "base_uri": "https://localhost:8080/"
        },
        "id": "Olqs1SeDu1cX",
        "outputId": "21b86331-01d2-4299-f7e3-7fb37ac207b7"
      },
      "source": [
        "# Ainda é possível inverter uma lista utilizando o método de Slicing:\r\n",
        "print('Lista Original:', animais)\r\n",
        "print(animais[::-1])\r\n",
        "\r\n",
        "# O -1 faz com que a lista seja retornada ao contrário, também é possível fazer o mesmo procedimento com intervalos maiores (-2,-3,-4, etc).\r\n",
        "print(animais[::-2])\r\n"
      ],
      "execution_count": null,
      "outputs": [
        {
          "output_type": "stream",
          "text": [
            "Lista Original: ['Peixe', 'Gato', 'Rato', 'Cachorro', 'Pombo']\n",
            "['Pombo', 'Cachorro', 'Rato', 'Gato', 'Peixe']\n",
            "['Pombo', 'Rato', 'Peixe']\n"
          ],
          "name": "stdout"
        }
      ]
    },
    {
      "cell_type": "markdown",
      "metadata": {
        "id": "gxco1zLUFGOT"
      },
      "source": [
        "### **FAÇA VOCÊ MESMO!**\r\n",
        "\r\n",
        "1. **Um milhão:** Crie uma lista de números de um a um milhão e, então, use um\r\n",
        "laço for para exibir os números. (Se a saída estiver demorando demais,\r\n",
        "interrompa pressionando CTRL-C ou feche a janela de saída.) \r\n",
        "\r\n",
        "Sugestão: Pesquisar e utilizar a função ***range()***"
      ]
    },
    {
      "cell_type": "code",
      "metadata": {
        "id": "EGleJjmvHHAM"
      },
      "source": [
        ""
      ],
      "execution_count": null,
      "outputs": []
    },
    {
      "cell_type": "markdown",
      "metadata": {
        "id": "PraXu_QbHHYc"
      },
      "source": [
        "2. ***Somando um milhão:*** Crie uma lista de números de um a um milhão e, em seguida, use min() e max() para garantir que sua lista realmente começa em um e termina em um milhão. Além disso, utilize a função sum() para ver a rapidez com que Python é capaz de somar um milhão de números.\r\n",
        "\r\n",
        "Sugestão: Utilizar a função ***range()*** "
      ]
    },
    {
      "cell_type": "code",
      "metadata": {
        "id": "HWD5J4pLHZou"
      },
      "source": [
        ""
      ],
      "execution_count": null,
      "outputs": []
    },
    {
      "cell_type": "markdown",
      "metadata": {
        "id": "HqjUHlNuHZ_k"
      },
      "source": [
        "3. Comprehension de cubos: Use uma list comprehension para gerar uma lista\r\n",
        "dos dez primeiros cubos.\r\n",
        "\r\n",
        "Sugestão: Pesquisar como funciona uma list comprehension (https://www.w3schools.com/python/python_lists_comprehension.asp)"
      ]
    },
    {
      "cell_type": "code",
      "metadata": {
        "id": "c8M9jF0oHsTf"
      },
      "source": [
        ""
      ],
      "execution_count": null,
      "outputs": []
    },
    {
      "cell_type": "markdown",
      "metadata": {
        "id": "Qp8OgKnUHr_s"
      },
      "source": [
        "# **Condicionais**"
      ]
    },
    {
      "cell_type": "markdown",
      "metadata": {
        "id": "t3zNeAs-JpD_"
      },
      "source": [
        "## **Operadores** ##\r\n",
        "\r\n",
        "Em Python, existe uma grande variedade de operadores que costumam ser utilizados frequentemente em condicionais, estruturas de repetição, funções, etc. Buscando facilitar o desenvolvimento de programas. Podem ser divididos, basicamente, em quatro grupos: Relacionais, Atribuição, Aritméticos e Lógicos, que retornam sempre um valor booleano (True ou False).\r\n",
        "\r\n"
      ]
    },
    {
      "cell_type": "markdown",
      "metadata": {
        "id": "gxhIeZnIHq8-"
      },
      "source": [
        "**Relacionais**\r\n",
        "\r\n",
        "> ***Maior que ( > )***: Verifica se um valor é maior que outro.\r\n",
        "```\r\n",
        "print(4 > 3)  # Saída: True\r\n",
        "```\r\n",
        ">***Menor que ( < )***: Verifica se um valor é menor que outro.\r\n",
        "```\r\n",
        "print(4 < 3)  # Saída: False\r\n",
        "```\r\n",
        "> ***Maior igual ( >= )***: Verifica se um valor é maior ou igual ao outro.\r\n",
        "```\r\n",
        "print(4 >= 3)  # Saída: True\r\n",
        "```\r\n",
        "\r\n",
        "> ***Menor igual ( <= )***: Verifica se um valor é menor ou igual ao outro.\r\n",
        "```\r\n",
        "print(4 <= 4)  # Saída: True\r\n",
        "```\r\n",
        "\r\n",
        "> ***Igualdade (==)***: Verifica se um valor é igual ao outro.\r\n",
        "```\r\n",
        "print(4 == 4)  # Saída: True\r\n",
        "```\r\n",
        "\r\n",
        "> ***Diferença (!=)***: Verifica se um valor é diferente de outro, caso verdade retorna True.\r\n",
        "```\r\n",
        "print(4 != 5)  # Saída: True\r\n",
        "```\r\n"
      ]
    },
    {
      "cell_type": "code",
      "metadata": {
        "colab": {
          "base_uri": "https://localhost:8080/"
        },
        "id": "23bat3jfvCUP",
        "outputId": "6e199450-9ae4-431a-b2a5-7874160ad80b"
      },
      "source": [
        "print('4 > 3 é', 4 > 3 )\r\n",
        "print('\\n4 < 3 é', 4 < 3 )\r\n",
        "print('\\n4 >= 3 é', 4 >= 3 )\r\n",
        "print('\\n4 <= 4 é', 4 <= 4 )\r\n",
        "print('\\n4 == 4 é', 4 == 4 )\r\n",
        "print('\\n4 != 5 é', 4 != 5 )"
      ],
      "execution_count": null,
      "outputs": [
        {
          "output_type": "stream",
          "text": [
            "4 > 3 é True\n",
            "\n",
            "4 < 3 é False\n",
            "\n",
            "4 >= 3 é True\n",
            "\n",
            "4 <= 4 é True\n",
            "\n",
            "4 == 4 é True\n",
            "\n",
            "4 != 5 é True\n"
          ],
          "name": "stdout"
        }
      ]
    },
    {
      "cell_type": "markdown",
      "metadata": {
        "id": "aV1kTX9tMDfB"
      },
      "source": [
        "**Atribuição**\r\n",
        "\r\n",
        "> ***Atribuidor (=)***: Permite atribuir um valor de qualquer tipo a uma variável.\r\n",
        "```\r\n",
        "nome = \"Amanda\"\r\n",
        "print(nome) #Saída: Amanda\r\n",
        "```\r\n",
        "\r\n",
        ">***Atribuidor Aditivo (+=)***: Permite somar um valor e atribuir o resultado direto na variável.\r\n",
        "```\r\n",
        "num = 1\r\n",
        "num += 5\r\n",
        "print(num) # Saída: 6\r\n",
        "```\r\n",
        "\r\n",
        "> ***Atribuidor Subtrativo (-=)***: Permite subtrair um valor e atribuir o resultado direto na variável.\r\n",
        "```\r\n",
        "num = 1\r\n",
        "num -= 5\r\n",
        "print(num) # Saída: -4\r\n",
        "```\r\n",
        "\r\n",
        "> ***Atribuidor Multiplicador (*=)***: Permite multiplicar um valor e atribuir o resultado direto na variável.\r\n",
        "```\r\n",
        "num = 1\r\n",
        "num *= 5\r\n",
        "print(num) # Saída: 5\r\n",
        "```\r\n",
        "\r\n",
        "> ***Atribuidor Divisor (/=)***: Permite dividir um valor e atribuir o resultado direto na variável.\r\n",
        "num /= 5\r\n",
        "```\r\n",
        "num = 10\r\n",
        "num /= 3\r\n",
        "print(num) # Saída: 3.33333...\r\n",
        "```\r\n",
        "\r\n",
        "> ***Atribuidor Divisor Inteiro (//=)***: Permite realizar a divisão inteira pelo valor e atribuir o resultado direto na variável.\r\n",
        "```\r\n",
        "num = 10\r\n",
        "num //= 3\r\n",
        "print(num) # Saída: 3\r\n",
        "```\r\n",
        "\r\n",
        "> ***Atribuidor Modular (%=)***: Pega o resto da divisão pelo valor indicado e atribui na variável.\r\n",
        "```\r\n",
        "num = 10\r\n",
        "num %= 3\r\n",
        "print(num) # Saída: 1\r\n",
        "```\r\n",
        "\r\n",
        "> ***Atribuidor Exponencial ( **=)***: Permite elevar o valor presente na variável pelo indicado e atribui o resultado na variável.\r\n",
        "```\r\n",
        "num = 10\r\n",
        "num **= 3\r\n",
        "print(num) # Saída: 1000\r\n",
        "```\r\n"
      ]
    },
    {
      "cell_type": "code",
      "metadata": {
        "id": "HzkmZ9ylvlrl",
        "colab": {
          "base_uri": "https://localhost:8080/"
        },
        "outputId": "eede3ae9-a89c-4e74-9b0f-ca81f49355f6"
      },
      "source": [
        "# Atribuidor aditivo\r\n",
        "num = 1\r\n",
        "num +=5\r\n",
        "print('1+=5 ->', num) \r\n",
        "\r\n",
        "# Atribuidor subtrativo\r\n",
        "num = 1\r\n",
        "num -=5\r\n",
        "print('\\n1-=5 ->', num) \r\n",
        "\r\n",
        "# Atribuidor multiplicador\r\n",
        "num = 1\r\n",
        "num *=5\r\n",
        "print('\\n1*=5 ->', num) \r\n",
        "\r\n",
        "# Atribuidor divisor\r\n",
        "num = 10\r\n",
        "num /= 3\r\n",
        "print('\\n10/=3 ->', round(num,4)) \r\n",
        "\r\n",
        "# Atribuidor divisor inteiro\r\n",
        "num = 10\r\n",
        "num //= 3\r\n",
        "print('\\n10//=3 ->', num)  \r\n",
        "\r\n",
        "# Atribuidor resto de\r\n",
        "num = 10\r\n",
        "num %= 3\r\n",
        "print('\\n10%=3 ->', num)  \r\n",
        "\r\n",
        "# Atribuidor exponencial\r\n",
        "num = 10\r\n",
        "num **= 3\r\n",
        "print('\\n10**=3 ->', num)  "
      ],
      "execution_count": null,
      "outputs": [
        {
          "output_type": "stream",
          "text": [
            "1+=5 -> 6\n",
            "\n",
            "1-=5 -> -4\n",
            "\n",
            "1*=5 -> 5\n",
            "\n",
            "10/=3 -> 3.3333\n",
            "\n",
            "10//=3 -> 3\n",
            "\n",
            "10%=3 -> 1\n",
            "\n",
            "10**=3 -> 1000\n"
          ],
          "name": "stdout"
        }
      ]
    },
    {
      "cell_type": "markdown",
      "metadata": {
        "id": "NI1w9NRJSWVF"
      },
      "source": [
        "**Lógicos**\r\n",
        "\r\n",
        "Os operadores Lógicos (***and*** e ***or***) são capazes de comparar valores booleanos (***True*** e **False**) ou expressões que retornam valores booleanos. Assim, os operadores lógicos podem ser utilizados em testes condicionais, estruturas de repetição, funções, etc.\r\n",
        "\r\n",
        "| **A** | **B** | **A or B** | **A and B** |\r\n",
        "|:-----:|:-----:|:----------:|:-----------:|\r\n",
        "|  True |  True |    True    |     True    |\r\n",
        "|  True | False |    True    |    False    |\r\n",
        "| False |  True |    True    |     True    |\r\n",
        "| False | False |    False   |    False    |"
      ]
    },
    {
      "cell_type": "code",
      "metadata": {
        "colab": {
          "base_uri": "https://localhost:8080/"
        },
        "id": "fg_x-ZatwaJs",
        "outputId": "6491cba0-3edb-43f8-8fec-9f5b476edc78"
      },
      "source": [
        "A = 4>2\r\n",
        "B = 0>1\r\n",
        "\r\n",
        "# Temos que A or B é verdadeiro e A and B é falso\r\n",
        "print('A or B =', 4>2 or 0>1)\r\n",
        "print('A and B =', 4>2 and 0>1)"
      ],
      "execution_count": null,
      "outputs": [
        {
          "output_type": "stream",
          "text": [
            "A or B = True\n",
            "A and B = False\n"
          ],
          "name": "stdout"
        }
      ]
    },
    {
      "cell_type": "code",
      "metadata": {
        "colab": {
          "base_uri": "https://localhost:8080/"
        },
        "id": "EHRIj625wrtL",
        "outputId": "f9174291-9f5e-4994-9c30-d1f71b2b2593"
      },
      "source": [
        "nome = input('Qual a cor do cachorro amarelo? ')\r\n",
        "if nome.lower() == 'amarelo':\r\n",
        "  print('Resposta Correta')\r\n",
        "  print('oi')\r\n",
        "elif nome.lower() == 'verde':\r\n",
        "  print('Passou longe')\r\n",
        "else:\r\n",
        "  print('Errou')"
      ],
      "execution_count": null,
      "outputs": [
        {
          "output_type": "stream",
          "text": [
            "Qual a cor do cachorro amarelo? Amarelo\n",
            "Resposta Correta\n",
            "oi\n"
          ],
          "name": "stdout"
        }
      ]
    },
    {
      "cell_type": "markdown",
      "metadata": {
        "id": "SWZKe79yUmI8"
      },
      "source": [
        "## **Introdução** ##\r\n",
        "\r\n",
        "**O que são estruturas condicionais?** Uma estrutura condicional é utilizada quando deseja-se aplicar, obviamente, uma condição ao seu código.\r\n",
        "\r\n",
        "**Indentação:** Em Python, os blocos de códigos são definidos pela indentação (conjuntos de tabs ou espaços antes de cada linha) do código, ou seja é algo extremamente importante para o funcionamento correto de seu programa. Se um conjunto de linhas de código pertencem ao mesmo módulo (uma condicional, função, etc) todas devem estar sob a mesma indentação."
      ]
    },
    {
      "cell_type": "markdown",
      "metadata": {
        "id": "hzOE_yz1VnVe"
      },
      "source": [
        "**Como o Python decide se deve ou não executar a condicional?**\r\n",
        "\r\n",
        "No coração de cada instrução ***if*** está uma expressão que pode ser avaliada como **True** ou *False*, chamada de **teste condicional**. A partir dele será definido que ação será realizada.\r\n",
        "\r\n",
        "```\r\n",
        "if nome == \"Carlos\":\r\n",
        "```\r\n",
        "Observe que no exemplo acima nome == “Carlos” é o teste condicional, ou seja o bloco de código dentro do if será executado apenas se a condição apresentada for verdadeira.\r\n",
        "\r\n",
        "\r\n",
        "\r\n",
        "\r\n"
      ]
    },
    {
      "cell_type": "code",
      "metadata": {
        "id": "fJa79_XkWlxL",
        "colab": {
          "base_uri": "https://localhost:8080/"
        },
        "outputId": "4215dab4-c913-4b6d-cc6d-4c4dd51eb9d1"
      },
      "source": [
        "nome = \"Carlos\"\r\n",
        "if nome == \"Carlos\":\r\n",
        "  print(\"Oi Carlos\")"
      ],
      "execution_count": null,
      "outputs": [
        {
          "output_type": "stream",
          "text": [
            "Oi Carlos\n"
          ],
          "name": "stdout"
        }
      ]
    },
    {
      "cell_type": "markdown",
      "metadata": {
        "id": "QGB1y9aWYO1j"
      },
      "source": [
        "## **Instruções IF**"
      ]
    },
    {
      "cell_type": "markdown",
      "metadata": {
        "id": "xpzndIoZWj1T"
      },
      "source": [
        "### **IF Simples**\r\n",
        "\r\n",
        "O tipo mais simples de instrução if tem um teste e uma ação: \r\n",
        "\r\n",
        "```\r\n",
        "if teste_condicional: \r\n",
        "  faça algo\r\n",
        "```\r\n",
        "\r\n",
        "Você pode colocar qualquer teste condicional na primeira linha, e praticamente qualquer ação no bloco indentado após o teste. Se o teste condicional for avaliado como True, Python executará o código após a instrução if . Se o teste for avaliado como False, Python ignora a ação da instrução if ."
      ]
    },
    {
      "cell_type": "code",
      "metadata": {
        "colab": {
          "base_uri": "https://localhost:8080/"
        },
        "id": "65jYQczvXALK",
        "outputId": "1bc66a6e-6100-4b80-e5a1-12e989cc5134"
      },
      "source": [
        "nome = input(\"Digite seu nome: \")\r\n",
        "if nome.title() == \"Carlos\":\r\n",
        "  sobrenome = input('Digite seu sobrenome: ')\r\n",
        "  print(\"Oi \" + nome.title() + ' ' + sobrenome.title())"
      ],
      "execution_count": null,
      "outputs": [
        {
          "output_type": "stream",
          "text": [
            "Digite seu nome: carlos\n",
            "Digite seu sobrenome: silva\n",
            "Oi Carlos Silva\n"
          ],
          "name": "stdout"
        }
      ]
    },
    {
      "cell_type": "markdown",
      "metadata": {
        "id": "mzXsnwnEYVXF"
      },
      "source": [
        "### **IF-ElSE**\r\n",
        "\r\n",
        "Com frequência você vai querer executar uma ação quando um teste condicional passar, e uma ação diferente em todos os demais casos. A sintaxe if - else de Python torna isso possível. Um bloco if - else é semelhante a uma instrução if simples, porém a instrução else permite definir uma ação ou um conjunto de ações executado quando o teste condicional falhar.\r\n",
        "\r\n",
        "```\r\n",
        "if teste_condicional: \r\n",
        "  faça algo\r\n",
        "else:\r\n",
        "  ação caso a condicional não seja satisfeita\r\n",
        "```"
      ]
    },
    {
      "cell_type": "code",
      "metadata": {
        "id": "sWfNPGSlxmbE",
        "colab": {
          "base_uri": "https://localhost:8080/"
        },
        "outputId": "4fd3cecb-f1d8-4d63-e256-291dc7ef6f1c"
      },
      "source": [
        "nome = input(\"Digite seu nome: \")\r\n",
        "if nome.title() == \"Carlos\":\r\n",
        "  sobrenome = input('Digite seu sobrenome: ')\r\n",
        "  print(\"Oi \" + nome.title() + ' ' + sobrenome.title())\r\n",
        "else:\r\n",
        "  print(\"Você não é um Carlos!\")"
      ],
      "execution_count": null,
      "outputs": [
        {
          "output_type": "stream",
          "text": [
            "Digite seu nome: Maria\n",
            "Você não é um Carlos!\n"
          ],
          "name": "stdout"
        }
      ]
    },
    {
      "cell_type": "markdown",
      "metadata": {
        "id": "KYz8J943Y01y"
      },
      "source": [
        "### **IF-ELIF-ELSE**\r\n",
        "\r\n",
        "Muitas vezes, você precisará testar mais de duas situações possíveis; para avaliar isso, a sintaxe if - elif - else de Python poderá ser usada. Podemos usar quantos blocos elif quisermos em nosso código ou até mesmo omitir o bloco else.\r\n",
        "\r\n",
        "```\r\n",
        "if teste_condicional: \r\n",
        "  faça algo\r\n",
        "elif teste_condicional_2:\r\n",
        "  faça algo\r\n",
        "else:\r\n",
        "  ação caso a condicional não seja satisfeita\r\n",
        "```\r\n",
        "\r\n"
      ]
    },
    {
      "cell_type": "code",
      "metadata": {
        "colab": {
          "base_uri": "https://localhost:8080/"
        },
        "id": "33lyGE_CYqQ2",
        "outputId": "7521ec51-a7a6-4e0c-d743-268ebfc7baed"
      },
      "source": [
        "idade = int(input(\"Digite a sua idade: \"))\r\n",
        "if idade >= 21:\r\n",
        "  print(\"Você atingiu a maioridade total\")\r\n",
        "elif idade >= 18:\r\n",
        "  print(\"Você já pode dirigir, caso tenha habilitação\")\r\n",
        "else:\r\n",
        "  print(\"Você é muito jovem!\")"
      ],
      "execution_count": null,
      "outputs": [
        {
          "output_type": "stream",
          "text": [
            "Digite a sua idade: 20\n",
            "Você já pode dirigir, caso tenha habilitação\n"
          ],
          "name": "stdout"
        }
      ]
    },
    {
      "cell_type": "markdown",
      "metadata": {
        "id": "JMuvISmkaLgU"
      },
      "source": [
        "## **FAÇA VOCÊ MESMO!**\r\n",
        "\r\n",
        "1. Estágios da vida: Escreva uma cadeia ***if-elif-else*** que determine o estágio da vida de uma pessoa. Defina um valor para a variável idade e então: \r\n",
        "\r\n",
        "\r\n",
        "* Se a pessoa tiver menos de 2 anos de idade, mostre uma mensagem dizendo que ela é um bebê.\r\n",
        "* Se a pessoa tiver pelo menos 2 anos, mas menos de 4, mostre uma mensagem * dizendo que ela é uma criança.\r\n",
        "* Se a pessoa tiver pelo menos 4 anos, mas menos de 13, mostre uma mensagem dizendo que ela é um(a) garoto(a).\r\n",
        "* Se a pessoa tiver pelo menos 13 anos, mas menos de 20, mostre uma mensagem dizendo que ela é um(a) adolescente.\r\n",
        "* Se a pessoa tiver pelo menos 20 anos, mas menos de 65, mostre uma mensagem dizendo que ela é adulto.\r\n",
        "* Se a pessoa tiver 65 anos ou mais, mostre uma mensagem dizendo que essa pessoa é idoso.\r\n",
        "\r\n",
        "\r\n",
        "\r\n"
      ]
    },
    {
      "cell_type": "code",
      "metadata": {
        "id": "iTnIHjjMaFy9"
      },
      "source": [
        ""
      ],
      "execution_count": null,
      "outputs": []
    },
    {
      "cell_type": "markdown",
      "metadata": {
        "id": "NUiPrf8HanUt"
      },
      "source": [
        "# **Laços de repetição**\r\n",
        "\r\n",
        "\r\n"
      ]
    },
    {
      "cell_type": "markdown",
      "metadata": {
        "id": "S3kZqejzjnGA"
      },
      "source": [
        "## **Introdução**\r\n",
        "\r\n",
        "Muitas vezes ao programar, o programador pode se deparar com situações onde um processo precisa ser realizado muitas vezes. Existem situações onde escrever linha a linha de um código pode ser exaustivo/impossível. Para isso, temos os laços de repetição, que são comandos-padrão do Python que podem realizar quantos processos forem desejados com certo padrão na sua estrutura.\r\n",
        "\r\n",
        "> Em python existem os laços ***for***, que já foram apresentados e os laços ***while***. O laço ***for*** toma uma coleção de itens (ex: Listas, Dicionários...) e executa um bloco de código uma vez para cada item da coleção. Em comparação, o laço ***while*** executa um bloco de código durante o tempo em que, ou enquanto, uma determinada condição for verdadeira."
      ]
    },
    {
      "cell_type": "markdown",
      "metadata": {
        "id": "ncdVqH_mbbxy"
      },
      "source": [
        "## **Laços WHILE**\r\n",
        "\r\n",
        "Com o laço ***while*** podemos executar um conjunto de declarações enquanto a condição seja satisfeita ou igual a ***True***.\r\n",
        "\r\n",
        "\r\n",
        "\r\n",
        "```\r\n",
        "# sintaxe:\r\n",
        "while(condição==True):\r\n",
        "  faça algo\r\n",
        "```\r\n",
        "\r\n",
        "\r\n",
        "\r\n",
        "No exemplo abaixo iniciamos uma variável inteira com o valor 1 e em seguida entramos um laço while cuja condição é que o valor de i seja menor que 6. Desse modo ele executará o código até que o nosso valor de i, que tem o valor 1 adicionado a cada interação, seja maior ou igual a 6."
      ]
    },
    {
      "cell_type": "code",
      "metadata": {
        "colab": {
          "base_uri": "https://localhost:8080/"
        },
        "id": "LIcE3npeatWA",
        "outputId": "ebd9da52-8825-482a-a97a-598ef6a9846a"
      },
      "source": [
        "i=1\r\n",
        "while(i<6):\r\n",
        "  print(i)\r\n",
        "  i+=1"
      ],
      "execution_count": null,
      "outputs": [
        {
          "output_type": "stream",
          "text": [
            "1\n",
            "2\n",
            "3\n",
            "4\n",
            "5\n"
          ],
          "name": "stdout"
        }
      ]
    },
    {
      "cell_type": "markdown",
      "metadata": {
        "id": "yvwSb3bhcREg"
      },
      "source": [
        "**Break**\r\n",
        "\r\n",
        "Com o ***break*** podemos podemos parar/quebrar o laço, mesmo se a condição do nosso ***while*** seja satisfeita/verdadeira.\r\n",
        "\r\n",
        "No exemplo acima iniciamos uma variável inteira com o valor 1 e em seguida entramos um laço while cuja condição é que o valor de i seja menor que 6. Desse modo ele executará o código até que o nosso valor de i, que tem o valor 1 adicionado a cada interação, seja maior ou igual a 6. Porém, temos uma condicional que interrompe o nosso laço caso i seja igual a 3. Como i está no intervalo [1,6), o nosso laço while será interrompido."
      ]
    },
    {
      "cell_type": "code",
      "metadata": {
        "colab": {
          "base_uri": "https://localhost:8080/"
        },
        "id": "dvqO6ZeocBTf",
        "outputId": "14bb9b44-8ab8-4e5c-ea30-9faaffaf3263"
      },
      "source": [
        "i=1\r\n",
        "while(i<6):\r\n",
        "  if i==3:\r\n",
        "    break\r\n",
        "  print(i)\r\n",
        "  i+=1"
      ],
      "execution_count": null,
      "outputs": [
        {
          "output_type": "stream",
          "text": [
            "1\n",
            "2\n"
          ],
          "name": "stdout"
        }
      ]
    },
    {
      "cell_type": "markdown",
      "metadata": {
        "id": "8ddou0HydF9b"
      },
      "source": [
        "**Continue**\r\n",
        "\r\n",
        "Com o ***continue*** podemos pular a iteração atual, continuando para a próxima.\r\n",
        "\r\n",
        "No exemplo acima iniciamos uma variável inteira com o valor 1 e em seguida entramos um laço while cuja condição é que o valor de i seja menor que 6. Desse modo ele executará o código até que o nosso valor de i, que tem o valor 1 adicionado a cada interação, seja maior ou igual a 6. Porém, se i for igual a 3, a iteração atual será pulada e o valor 3 não será printado."
      ]
    },
    {
      "cell_type": "code",
      "metadata": {
        "colab": {
          "base_uri": "https://localhost:8080/"
        },
        "id": "-gMq3x5Dcj7c",
        "outputId": "247cc9e5-f5b7-417b-c402-3b3b407edf0f"
      },
      "source": [
        "i=1\r\n",
        "while(i<6):\r\n",
        "  if i==3:\r\n",
        "    i+=1\r\n",
        "    continue\r\n",
        "  print(i)\r\n",
        "  i+=1\r\n",
        "  "
      ],
      "execution_count": null,
      "outputs": [
        {
          "output_type": "stream",
          "text": [
            "1\n",
            "2\n",
            "4\n",
            "5\n"
          ],
          "name": "stdout"
        }
      ]
    },
    {
      "cell_type": "markdown",
      "metadata": {
        "id": "Loxlvmc6eHhz"
      },
      "source": [
        "**Else**\r\n",
        "\r\n",
        "Com o else podemos rodar um bloco de código caso nossa condicional do laço while não seja satisfeita/verdadeira.\r\n",
        "\r\n"
      ]
    },
    {
      "cell_type": "code",
      "metadata": {
        "colab": {
          "base_uri": "https://localhost:8080/"
        },
        "id": "G5XUSMqAdega",
        "outputId": "7f6ed4f4-69ba-4bbd-be2c-7a239ffd2cdc"
      },
      "source": [
        "i=7\r\n",
        "while(i<6):\r\n",
        "  print(i)\r\n",
        "  i+=1\r\n",
        "else:\r\n",
        "  print('i é maior que 6')"
      ],
      "execution_count": null,
      "outputs": [
        {
          "output_type": "stream",
          "text": [
            "i é maior que 6\n"
          ],
          "name": "stdout"
        }
      ]
    },
    {
      "cell_type": "markdown",
      "metadata": {
        "id": "nO9H4OEEe0M2"
      },
      "source": [
        "## **FAÇA VOCÊ MESMO!**\r\n",
        "\r\n",
        "1. Crie um programa em Python que conte os número ímpares e pares de 1 até 200."
      ]
    },
    {
      "cell_type": "code",
      "metadata": {
        "id": "Bc5cQEHZebTy"
      },
      "source": [
        ""
      ],
      "execution_count": null,
      "outputs": []
    },
    {
      "cell_type": "markdown",
      "metadata": {
        "id": "ctolUYACe-WD"
      },
      "source": [
        "2. Crie um programa em Python que imprima na tela a tabuada de multiplicação do 1 até o 9."
      ]
    },
    {
      "cell_type": "code",
      "metadata": {
        "id": "OkhhTSLte_J-"
      },
      "source": [
        ""
      ],
      "execution_count": null,
      "outputs": []
    },
    {
      "cell_type": "markdown",
      "metadata": {
        "id": "n9J7rmMxfHb0"
      },
      "source": [
        "3. Crie um programa em Python que imprima as potências de 2 e 3 até a décima potência.\r\n"
      ]
    },
    {
      "cell_type": "code",
      "metadata": {
        "id": "RSKtGXd7fIR7"
      },
      "source": [
        ""
      ],
      "execution_count": null,
      "outputs": []
    },
    {
      "cell_type": "markdown",
      "metadata": {
        "id": "5Dj7gaDXfIx-"
      },
      "source": [
        "## **Laços FOR**\r\n",
        "\r\n",
        "Um laço for é usado para iterar elementos numa sequência (que pode ser uma lista, uma tupla, um dicionário, um set ou string).\r\n",
        "\r\n",
        "> O for do Python é um pouco diferente do que normalmente vemos em outras linguagens de programação, ele funciona mais como um iterador (iterator method) que é encontrado em linguagens de programação orientadas ao objeto.\r\n",
        "\r\n",
        "\r\n",
        "\r\n",
        "```\r\n",
        "# Sintaxe\r\n",
        "for i in [1,2,3,4]:\r\n",
        "  print(i)\r\n",
        "```\r\n",
        "\r\n"
      ]
    },
    {
      "cell_type": "code",
      "metadata": {
        "colab": {
          "base_uri": "https://localhost:8080/"
        },
        "id": "gvE4Kri9fNPe",
        "outputId": "12458747-3b11-4e50-ed06-46f4f44900a8"
      },
      "source": [
        "frutas = ['Maçã', 'Morango', 'Banana']\r\n",
        "for fruta in frutas:\r\n",
        "  print(fruta)"
      ],
      "execution_count": null,
      "outputs": [
        {
          "output_type": "stream",
          "text": [
            "Maçã\n",
            "Morango\n",
            "Banana\n"
          ],
          "name": "stdout"
        }
      ]
    },
    {
      "cell_type": "markdown",
      "metadata": {
        "id": "PfltBOymgjGZ"
      },
      "source": [
        "**Acessando uma string**\r\n",
        "\r\n",
        "As strings são objetos iteráveis. Elas contém uma sequência de caracteres, que podem ser acessados a cada iteração de nosso laço for.\r\n",
        "\r\n",
        "```\r\n",
        "# Sintaxe\r\n",
        "for x in string:\r\n",
        "  print(x)\r\n",
        "```\r\n"
      ]
    },
    {
      "cell_type": "code",
      "metadata": {
        "colab": {
          "base_uri": "https://localhost:8080/"
        },
        "id": "gNMBLJn_gV0W",
        "outputId": "bac86e50-9b32-467a-c6fc-268056468ead"
      },
      "source": [
        "for caractere in 'banana':\r\n",
        "  print(caractere)"
      ],
      "execution_count": null,
      "outputs": [
        {
          "output_type": "stream",
          "text": [
            "b\n",
            "a\n",
            "n\n",
            "a\n",
            "n\n",
            "a\n"
          ],
          "name": "stdout"
        }
      ]
    },
    {
      "cell_type": "markdown",
      "metadata": {
        "id": "dk4nOzGMhF4n"
      },
      "source": [
        "**Função range()**\r\n",
        "\r\n",
        "Para percorrer um conjunto de códigos um determinado número de vezes, podemos utilizar a função de range()\r\n",
        "\r\n",
        "> A função range() retorna uma sequência de números, começando em 0 por padrão, e aumenta em 1 (por padrão), e termina com um número especificado.\r\n"
      ]
    },
    {
      "cell_type": "code",
      "metadata": {
        "colab": {
          "base_uri": "https://localhost:8080/"
        },
        "id": "CDJsJJYQhY--",
        "outputId": "9d5f80ed-cbee-4518-9147-7c666eed0d7b"
      },
      "source": [
        "#OffTopic: Criando uma lista com a função range()\r\n",
        "print(list(range(6)))"
      ],
      "execution_count": null,
      "outputs": [
        {
          "output_type": "stream",
          "text": [
            "[0, 1, 2, 3, 4, 5]\n"
          ],
          "name": "stdout"
        }
      ]
    },
    {
      "cell_type": "code",
      "metadata": {
        "colab": {
          "base_uri": "https://localhost:8080/"
        },
        "id": "t0x2r5Yegs5D",
        "outputId": "f1cf850c-95c6-4974-d3c3-87ca55b2dd12"
      },
      "source": [
        "for i in range(6):\r\n",
        "  print(i)"
      ],
      "execution_count": null,
      "outputs": [
        {
          "output_type": "stream",
          "text": [
            "0\n",
            "1\n",
            "2\n",
            "3\n",
            "4\n",
            "5\n"
          ],
          "name": "stdout"
        }
      ]
    },
    {
      "cell_type": "markdown",
      "metadata": {
        "id": "pyTItx34hrEr"
      },
      "source": [
        "**Laços aninhados**\r\n",
        "\r\n",
        "Um laço aninhado é um laço dentro de um laço. O \"laço interior\" será executado uma vez para cada iteração do \"laço exterior\". Muito utilizado para acessar e manipular dicionários."
      ]
    },
    {
      "cell_type": "code",
      "metadata": {
        "colab": {
          "base_uri": "https://localhost:8080/"
        },
        "id": "0ldtfLp5hXjC",
        "outputId": "64409da0-73b1-4180-d0ac-f06baea1ec28"
      },
      "source": [
        "adjetivos = ['Gostosa', 'Saborosa', 'Gelada']\r\n",
        "bebidas = ['Coquinha']\r\n",
        "\r\n",
        "for bebida in bebidas:\r\n",
        "  for adj in adjetivos:\r\n",
        "    print(bebida,adj)"
      ],
      "execution_count": null,
      "outputs": [
        {
          "output_type": "stream",
          "text": [
            "Coquinha Gostosa\n",
            "Coquinha Saborosa\n",
            "Coquinha Gelada\n"
          ],
          "name": "stdout"
        }
      ]
    },
    {
      "cell_type": "markdown",
      "metadata": {
        "id": "kUOiuOpMiWWc"
      },
      "source": [
        "## **FAÇA VOCÊ MESMO!**\r\n",
        "\r\n",
        "1. Escreva um programa no qual o usuário digitará o seu nome completo. A partir dessa entrada, crie uma lista e exiba todos os nomes do usuário separadamente. No final, exiba a mensagem: “Seu sobrenome é: Sobrenome”.\r\n",
        "\r\n",
        "**DICA:** Utilize o método *split( )* para transformar uma string numa lista.\r\n"
      ]
    },
    {
      "cell_type": "code",
      "metadata": {
        "id": "yffDwk74iMkk"
      },
      "source": [
        ""
      ],
      "execution_count": null,
      "outputs": []
    },
    {
      "cell_type": "markdown",
      "metadata": {
        "id": "6AsDDMnpiiyZ"
      },
      "source": [
        "# **Funções**"
      ]
    },
    {
      "cell_type": "markdown",
      "metadata": {
        "id": "ke1Ea_Tgjamk"
      },
      "source": [
        "## **Introdução**\r\n",
        "\r\n",
        "Funções são blocos de código nomeados, concebidos para realizar uma tarefa específica. Quando queremos executar uma tarefa em particular, definida em uma função, chamamos o nome da função responsável por ela. \r\n",
        "\r\n",
        "> Em Python, uma função é definida pela sintaxe ***def***:\r\n",
        "```\r\n",
        "def hello_world():\r\n",
        "  print(\"Hello World!\")\r\n",
        "```\r\n",
        "\r\n",
        "> Para utilizar essa função basta chamá-la pelo nome escolhido e ela executará a função que lhe foi atribuída:\r\n",
        "```\r\n",
        "hello_world()\r\n",
        "```\r\n",
        "\r\n",
        "Nesse exemplo a frase Hello World! é exibida.\r\n",
        "\r\n"
      ]
    },
    {
      "cell_type": "code",
      "metadata": {
        "colab": {
          "base_uri": "https://localhost:8080/"
        },
        "id": "LmQgAbjmjj7C",
        "outputId": "a4ce975d-f6d6-403c-9614-1842c2422e7a"
      },
      "source": [
        "def hello_world():\r\n",
        "  print(\"Hello World!\")\r\n",
        "\r\n",
        "hello_world()"
      ],
      "execution_count": null,
      "outputs": [
        {
          "output_type": "stream",
          "text": [
            "Hello World!\n"
          ],
          "name": "stdout"
        }
      ]
    },
    {
      "cell_type": "markdown",
      "metadata": {
        "id": "oQKY6zSbmXKN"
      },
      "source": [
        "## **Argumentos**\r\n",
        "\r\n",
        "Também é possível passar argumentos/parâmetros nas nossas funções. Os argumentos são utilizados para a passagem de informações para a função criada Cada argumento é constituído de um nome de variável e de um valor, ou por meio de listas e dicionários de valores que são separados por meio de uma vírgula."
      ]
    },
    {
      "cell_type": "code",
      "metadata": {
        "colab": {
          "base_uri": "https://localhost:8080/"
        },
        "id": "abt1H2nLl2xz",
        "outputId": "c30bfe06-bb60-4748-a589-789e340b312e"
      },
      "source": [
        "def saudacao(primeiro_nome, ultimo_nome):\r\n",
        "  nome_completo = primeiro_nome + ' ' + ultimo_nome\r\n",
        "  print('Olá ' + nome_completo.title())\r\n",
        "\r\n",
        "nome = input(\"Digite seu nome: \")\r\n",
        "sobrenome = input(\"Digite seu sobrenome: \")\r\n",
        "saudacao(nome, sobrenome)"
      ],
      "execution_count": null,
      "outputs": [
        {
          "output_type": "stream",
          "text": [
            "Digite seu nome: Albert\n",
            "Digite seu sobrenome: einstein\n",
            "Olá Albert Einstein\n"
          ],
          "name": "stdout"
        }
      ]
    },
    {
      "cell_type": "markdown",
      "metadata": {
        "id": "xK1gwzXDn8Wu"
      },
      "source": [
        " **Valores padrão**\r\n",
        "\r\n",
        "Podemos definir um valor padrão para os argumentos nossa função. Desse modo, caso o usuário não preencha os argumentos da função, ela utilizará o padrão indicado."
      ]
    },
    {
      "cell_type": "code",
      "metadata": {
        "colab": {
          "base_uri": "https://localhost:8080/"
        },
        "id": "JNxwVm7znxJ8",
        "outputId": "cb714f3d-8ead-4814-f8bb-f2f469d751eb"
      },
      "source": [
        "def saudacao(primeiro_nome='alberto', ultimo_nome='einstein'):\r\n",
        "  nome_completo = primeiro_nome + ' ' + ultimo_nome\r\n",
        "  print('Olá ' + nome_completo.title())\r\n",
        "\r\n",
        "saudacao('Marie', 'Curie')\r\n",
        "saudacao(primeiro_nome='Isaac', ultimo_nome='araujo')\r\n",
        "saudacao()"
      ],
      "execution_count": null,
      "outputs": [
        {
          "output_type": "stream",
          "text": [
            "Olá Marie Curie\n",
            "Olá Isaac Araujo\n",
            "Olá Alberto Einstein\n"
          ],
          "name": "stdout"
        }
      ]
    },
    {
      "cell_type": "markdown",
      "metadata": {
        "id": "6iu6dLtho1Yz"
      },
      "source": [
        "**Passando uma lista como argumento**\r\n",
        "\r\n",
        "Você pode enviar qualquer tipo de dados como argumento para uma função (string, numero, lista, dicionário, etc.). Esse dado será tratado como o mesmo tipo de dados dentro da função.\r\n",
        "\r\n",
        "> Perceba que nós tratamos o dado do nosso argumento da mesma forma que trataríamos se estivessem acessando essa lista sem uma função.\r\n"
      ]
    },
    {
      "cell_type": "code",
      "metadata": {
        "colab": {
          "base_uri": "https://localhost:8080/"
        },
        "id": "pkCDljG0oKNq",
        "outputId": "815a3a40-4928-4258-c552-3a1e59066be8"
      },
      "source": [
        "def minhas_frutas(frutas):\r\n",
        "  for fruta in frutas:\r\n",
        "    print(fruta)\r\n",
        "\r\n",
        "frutas = ['Banana', 'Maçã', 'Melão']\r\n",
        "minhas_frutas(frutas)"
      ],
      "execution_count": null,
      "outputs": [
        {
          "output_type": "stream",
          "text": [
            "Banana\n",
            "Maçã\n",
            "Melão\n"
          ],
          "name": "stdout"
        }
      ]
    },
    {
      "cell_type": "markdown",
      "metadata": {
        "id": "ePX8GEwtqR9p"
      },
      "source": [
        "## **Retornando valores**\r\n",
        "\r\n",
        "Podemos deixar uma função retornar um valor, para isso utilizamos a declaração de retorno “return value”:\r\n",
        "\r\n",
        "> Perceba que nossa função retorna um valor que pode ser atribuído a uma variável, caso queiramos."
      ]
    },
    {
      "cell_type": "code",
      "metadata": {
        "colab": {
          "base_uri": "https://localhost:8080/"
        },
        "id": "5wV8fin-qJsR",
        "outputId": "4d2ae90f-c0c4-4d74-bc4d-c4e267e876f1"
      },
      "source": [
        "def somar_5(num):\r\n",
        "  return num + 5\r\n",
        "\r\n",
        "print(somar_5(15))\r\n",
        "print(somar_5(-10))"
      ],
      "execution_count": null,
      "outputs": [
        {
          "output_type": "stream",
          "text": [
            "20\n",
            "-5\n"
          ],
          "name": "stdout"
        }
      ]
    },
    {
      "cell_type": "markdown",
      "metadata": {
        "id": "9AhO5NX3rFvO"
      },
      "source": [
        "## **FAÇA VOCÊ MESMO**\r\n",
        "\r\n",
        "1. Crie uma calculadora de operações matemáticas básicas utilizando funções."
      ]
    },
    {
      "cell_type": "code",
      "metadata": {
        "id": "WXoSNXLUquix"
      },
      "source": [
        ""
      ],
      "execution_count": null,
      "outputs": []
    },
    {
      "cell_type": "markdown",
      "metadata": {
        "id": "OsnasdZXrRsB"
      },
      "source": [
        "# **Próximos passos**\r\n",
        "\r\n",
        "> **Revisar o conteúdo aprendido** por meio de livros, videoaulas e documentações da linguagem Python:\r\n",
        "* Livro Curso Intensivo de Python - Eric Matthes;\r\n",
        "* W3Schools - https://www.w3schools.com/python/default.asp;\r\n",
        "* Curso Python For Everybody - https://www.youtube.com/watch?v=8DvywoWv6fI&t=31704s\r\n",
        "* Qualquer outra fonte de conhecimento que você gostar.\r\n",
        "* Aprender a utilizar uma IDE/Editor de texto para programar nativamente em seu computador, eu gosto bastante do VScode ou Pycharm, mas utilize a que se sentir mais confortável. Uma outra ferramenta bastante legal é o Jupyter.\r\n",
        "\r\n",
        "> **Aprofundar os conteúdos:** Essa introdução teve o objetivo de apresentar a linguagem de programação Python para vocês, porém, o mundo da programação requer um estudo constante da sintaxe, assim como aplicação do conhecimento. É importante construir uma base sólida, portanto aconselho o estudo de:\r\n",
        "* Estrutura de dados: Conceitos, Listas, Dicionários, Sets, Tuples etc;\r\n",
        "* Aprofundar o estudo de Funções: Recursão, Lambda etc;\r\n",
        "* Estudar Orientação a Objetos: Classes, Herança etc;\r\n",
        "* Aplicar todo esse conhecimento em projetos guiados ou em projetos para solucionar problemas que você encontrou;\r\n",
        "* Ajudar outras pessoas e repassar o conhecimento :3\r\n",
        "\r\n"
      ]
    }
  ]
}